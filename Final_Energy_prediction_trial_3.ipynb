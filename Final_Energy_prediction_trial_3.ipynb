{
  "cells": [
    {
      "cell_type": "code",
      "execution_count": 1,
      "id": "mKjxeP6CHleJ",
      "metadata": {
        "colab": {
          "base_uri": "https://localhost:8080/"
        },
        "id": "mKjxeP6CHleJ",
        "outputId": "e89e858f-9540-4a42-e17b-6d523deb9244"
      },
      "outputs": [],
      "source": [
        "#from google.colab import drive\n",
        "#drive.mount('/content/drive')"
      ]
    },
    {
      "cell_type": "markdown",
      "id": "dc0e46aa",
      "metadata": {},
      "source": [
        "Data import from server "
      ]
    },
    {
      "cell_type": "code",
      "execution_count": 2,
      "id": "c16d65ff",
      "metadata": {
        "id": "c16d65ff"
      },
      "outputs": [],
      "source": [
        "import warnings\n",
        "warnings.filterwarnings('ignore')"
      ]
    },
    {
      "cell_type": "code",
      "execution_count": 3,
      "id": "7e0ccb55",
      "metadata": {
        "id": "7e0ccb55"
      },
      "outputs": [],
      "source": [
        "#Importing libraries\n",
        "import pandas as pd\n",
        "import numpy as np\n",
        "import matplotlib.pyplot as plt\n",
        "import seaborn as sns\n"
      ]
    },
    {
      "cell_type": "code",
      "execution_count": 4,
      "id": "97bb2c91",
      "metadata": {
        "id": "97bb2c91"
      },
      "outputs": [],
      "source": [
        "pd.set_option('display.max_columns',50)\n",
        "pd.set_option('display.max_rows',500)"
      ]
    },
    {
      "cell_type": "code",
      "execution_count": 5,
      "id": "128aa49a",
      "metadata": {},
      "outputs": [],
      "source": [
        "#pip install openpyxl"
      ]
    },
    {
      "cell_type": "code",
      "execution_count": 6,
      "id": "3adbaf09",
      "metadata": {
        "id": "3adbaf09"
      },
      "outputs": [],
      "source": [
        "df = pd.read_excel(r'E:\\Twarit\\Olectra\\Energy prediction model\\1 model data\\Final project\\merged_df.xlsx')"
      ]
    },
    {
      "cell_type": "code",
      "execution_count": 7,
      "id": "14bda0c2",
      "metadata": {
        "colab": {
          "base_uri": "https://localhost:8080/",
          "height": 310
        },
        "id": "14bda0c2",
        "outputId": "ebffe029-fcb3-4cf1-873b-5f8474a764c8"
      },
      "outputs": [
        {
          "data": {
            "text/html": [
              "<div>\n",
              "<style scoped>\n",
              "    .dataframe tbody tr th:only-of-type {\n",
              "        vertical-align: middle;\n",
              "    }\n",
              "\n",
              "    .dataframe tbody tr th {\n",
              "        vertical-align: top;\n",
              "    }\n",
              "\n",
              "    .dataframe thead th {\n",
              "        text-align: right;\n",
              "    }\n",
              "</style>\n",
              "<table border=\"1\" class=\"dataframe\">\n",
              "  <thead>\n",
              "    <tr style=\"text-align: right;\">\n",
              "      <th></th>\n",
              "      <th>Date</th>\n",
              "      <th>Depot</th>\n",
              "      <th>Bus No.</th>\n",
              "      <th>Bus Type</th>\n",
              "      <th>Shift</th>\n",
              "      <th>Route\\nNo.</th>\n",
              "      <th>Driver ID</th>\n",
              "      <th>Act start Datetime</th>\n",
              "      <th>Act end Datetime</th>\n",
              "      <th>Total KM</th>\n",
              "      <th>START SOC</th>\n",
              "      <th>KM/SOC</th>\n",
              "      <th>tempmax</th>\n",
              "      <th>tempmin</th>\n",
              "      <th>temp</th>\n",
              "      <th>windspeed</th>\n",
              "      <th>winddir</th>\n",
              "      <th>icon</th>\n",
              "    </tr>\n",
              "  </thead>\n",
              "  <tbody>\n",
              "    <tr>\n",
              "      <th>0</th>\n",
              "      <td>2023-08-01</td>\n",
              "      <td>PUNE NGD</td>\n",
              "      <td>E120</td>\n",
              "      <td>12</td>\n",
              "      <td>1</td>\n",
              "      <td>43</td>\n",
              "      <td>MV442</td>\n",
              "      <td>2023-08-01 07:05:00</td>\n",
              "      <td>2023-08-01 14:10:00</td>\n",
              "      <td>137.0</td>\n",
              "      <td>99.0</td>\n",
              "      <td>1.900000</td>\n",
              "      <td>27.3</td>\n",
              "      <td>21.8</td>\n",
              "      <td>23.4</td>\n",
              "      <td>27.7</td>\n",
              "      <td>259.3</td>\n",
              "      <td>rain</td>\n",
              "    </tr>\n",
              "    <tr>\n",
              "      <th>1</th>\n",
              "      <td>2023-08-01</td>\n",
              "      <td>PUNE NGD</td>\n",
              "      <td>E120</td>\n",
              "      <td>12</td>\n",
              "      <td>2</td>\n",
              "      <td>314</td>\n",
              "      <td>MV443</td>\n",
              "      <td>2023-08-01 15:25:00</td>\n",
              "      <td>2023-08-01 22:20:00</td>\n",
              "      <td>59.0</td>\n",
              "      <td>54.0</td>\n",
              "      <td>2.034483</td>\n",
              "      <td>27.3</td>\n",
              "      <td>21.8</td>\n",
              "      <td>23.4</td>\n",
              "      <td>27.7</td>\n",
              "      <td>259.3</td>\n",
              "      <td>rain</td>\n",
              "    </tr>\n",
              "    <tr>\n",
              "      <th>2</th>\n",
              "      <td>2023-08-01</td>\n",
              "      <td>PUNE NGD</td>\n",
              "      <td>E03</td>\n",
              "      <td>9</td>\n",
              "      <td>1</td>\n",
              "      <td>329</td>\n",
              "      <td>MV421</td>\n",
              "      <td>2023-08-01 06:20:00</td>\n",
              "      <td>2023-08-01 14:05:00</td>\n",
              "      <td>125.0</td>\n",
              "      <td>98.0</td>\n",
              "      <td>1.838235</td>\n",
              "      <td>27.3</td>\n",
              "      <td>21.8</td>\n",
              "      <td>23.4</td>\n",
              "      <td>27.7</td>\n",
              "      <td>259.3</td>\n",
              "      <td>rain</td>\n",
              "    </tr>\n",
              "    <tr>\n",
              "      <th>3</th>\n",
              "      <td>2023-08-01</td>\n",
              "      <td>PUNE NGD</td>\n",
              "      <td>E05</td>\n",
              "      <td>9</td>\n",
              "      <td>3</td>\n",
              "      <td>303</td>\n",
              "      <td>MV291</td>\n",
              "      <td>2023-08-01 07:55:00</td>\n",
              "      <td>2023-08-01 19:40:00</td>\n",
              "      <td>154.0</td>\n",
              "      <td>98.0</td>\n",
              "      <td>1.833333</td>\n",
              "      <td>27.3</td>\n",
              "      <td>21.8</td>\n",
              "      <td>23.4</td>\n",
              "      <td>27.7</td>\n",
              "      <td>259.3</td>\n",
              "      <td>rain</td>\n",
              "    </tr>\n",
              "    <tr>\n",
              "      <th>4</th>\n",
              "      <td>2023-08-01</td>\n",
              "      <td>PUNE NGD</td>\n",
              "      <td>E07</td>\n",
              "      <td>9</td>\n",
              "      <td>2</td>\n",
              "      <td>374</td>\n",
              "      <td>MV466</td>\n",
              "      <td>2023-08-01 13:45:00</td>\n",
              "      <td>2023-08-01 20:55:00</td>\n",
              "      <td>97.0</td>\n",
              "      <td>65.0</td>\n",
              "      <td>1.979592</td>\n",
              "      <td>27.3</td>\n",
              "      <td>21.8</td>\n",
              "      <td>23.4</td>\n",
              "      <td>27.7</td>\n",
              "      <td>259.3</td>\n",
              "      <td>rain</td>\n",
              "    </tr>\n",
              "  </tbody>\n",
              "</table>\n",
              "</div>"
            ],
            "text/plain": [
              "        Date     Depot Bus No.  Bus Type  Shift Route\\nNo. Driver ID  \\\n",
              "0 2023-08-01  PUNE NGD    E120        12      1         43     MV442   \n",
              "1 2023-08-01  PUNE NGD    E120        12      2        314     MV443   \n",
              "2 2023-08-01  PUNE NGD     E03         9      1        329     MV421   \n",
              "3 2023-08-01  PUNE NGD     E05         9      3        303     MV291   \n",
              "4 2023-08-01  PUNE NGD     E07         9      2        374     MV466   \n",
              "\n",
              "   Act start Datetime    Act end Datetime  Total KM  START SOC    KM/SOC  \\\n",
              "0 2023-08-01 07:05:00 2023-08-01 14:10:00     137.0       99.0  1.900000   \n",
              "1 2023-08-01 15:25:00 2023-08-01 22:20:00      59.0       54.0  2.034483   \n",
              "2 2023-08-01 06:20:00 2023-08-01 14:05:00     125.0       98.0  1.838235   \n",
              "3 2023-08-01 07:55:00 2023-08-01 19:40:00     154.0       98.0  1.833333   \n",
              "4 2023-08-01 13:45:00 2023-08-01 20:55:00      97.0       65.0  1.979592   \n",
              "\n",
              "   tempmax  tempmin  temp  windspeed  winddir  icon  \n",
              "0     27.3     21.8  23.4       27.7    259.3  rain  \n",
              "1     27.3     21.8  23.4       27.7    259.3  rain  \n",
              "2     27.3     21.8  23.4       27.7    259.3  rain  \n",
              "3     27.3     21.8  23.4       27.7    259.3  rain  \n",
              "4     27.3     21.8  23.4       27.7    259.3  rain  "
            ]
          },
          "execution_count": 7,
          "metadata": {},
          "output_type": "execute_result"
        }
      ],
      "source": [
        "df.head(5)"
      ]
    },
    {
      "cell_type": "code",
      "execution_count": 8,
      "id": "f1fb6bc5",
      "metadata": {
        "id": "f1fb6bc5"
      },
      "outputs": [],
      "source": [
        "df['Act start Datetime'] = pd.to_datetime(df['Act start Datetime'])\n",
        "df['Act end Datetime'] = pd.to_datetime(df['Act end Datetime'])"
      ]
    },
    {
      "cell_type": "code",
      "execution_count": 9,
      "id": "1838c4f2",
      "metadata": {
        "colab": {
          "base_uri": "https://localhost:8080/"
        },
        "id": "1838c4f2",
        "outputId": "99b5ea6f-da36-4e1f-c336-273cb7eb874e",
        "scrolled": true
      },
      "outputs": [
        {
          "name": "stdout",
          "output_type": "stream",
          "text": [
            "<class 'pandas.core.frame.DataFrame'>\n",
            "RangeIndex: 129514 entries, 0 to 129513\n",
            "Data columns (total 18 columns):\n",
            " #   Column              Non-Null Count   Dtype         \n",
            "---  ------              --------------   -----         \n",
            " 0   Date                129514 non-null  datetime64[ns]\n",
            " 1   Depot               129514 non-null  object        \n",
            " 2   Bus No.             129514 non-null  object        \n",
            " 3   Bus Type            129514 non-null  int64         \n",
            " 4   Shift               129514 non-null  int64         \n",
            " 5   Route\n",
            "No.           129514 non-null  object        \n",
            " 6   Driver ID           129514 non-null  object        \n",
            " 7   Act start Datetime  129514 non-null  datetime64[ns]\n",
            " 8   Act end Datetime    129513 non-null  datetime64[ns]\n",
            " 9   Total KM            129514 non-null  float64       \n",
            " 10  START SOC           129514 non-null  float64       \n",
            " 11  KM/SOC              129514 non-null  float64       \n",
            " 12  tempmax             129514 non-null  float64       \n",
            " 13  tempmin             129514 non-null  float64       \n",
            " 14  temp                129514 non-null  float64       \n",
            " 15  windspeed           129514 non-null  float64       \n",
            " 16  winddir             129514 non-null  float64       \n",
            " 17  icon                129514 non-null  object        \n",
            "dtypes: datetime64[ns](3), float64(8), int64(2), object(5)\n",
            "memory usage: 17.8+ MB\n"
          ]
        }
      ],
      "source": [
        "df.info()"
      ]
    },
    {
      "cell_type": "code",
      "execution_count": 10,
      "id": "4803fc79",
      "metadata": {
        "id": "4803fc79"
      },
      "outputs": [],
      "source": [
        "df['Duration'] = df['Act end Datetime'] - df['Act start Datetime']"
      ]
    },
    {
      "cell_type": "code",
      "execution_count": 11,
      "id": "4b3219e2",
      "metadata": {
        "colab": {
          "base_uri": "https://localhost:8080/"
        },
        "id": "4b3219e2",
        "outputId": "f84f140f-b47b-44fc-d056-c1e8a5c2a769"
      },
      "outputs": [
        {
          "data": {
            "text/plain": [
              "Index(['Date', 'Depot', 'Bus No.', 'Bus Type', 'Shift', 'Route\\nNo.',\n",
              "       'Driver ID', 'Act start Datetime', 'Act end Datetime', 'Total KM',\n",
              "       'START SOC', 'KM/SOC', 'tempmax', 'tempmin', 'temp', 'windspeed',\n",
              "       'winddir', 'icon', 'Duration'],\n",
              "      dtype='object')"
            ]
          },
          "execution_count": 11,
          "metadata": {},
          "output_type": "execute_result"
        }
      ],
      "source": [
        "df.columns"
      ]
    },
    {
      "cell_type": "code",
      "execution_count": 12,
      "id": "af7edce1",
      "metadata": {
        "id": "af7edce1"
      },
      "outputs": [],
      "source": [
        "# Map Bus Type to Battery Capacity\n",
        "bus_type_to_capacity = {12: 314, 9: 200}\n",
        "df['Battery Capacity'] = df['Bus Type'].map(bus_type_to_capacity)\n"
      ]
    },
    {
      "cell_type": "code",
      "execution_count": 13,
      "id": "6629995a",
      "metadata": {
        "id": "6629995a"
      },
      "outputs": [],
      "source": [
        "df['Energy per km'] = df['Battery Capacity'] / (df['KM/SOC'] * 100).round(2)\n",
        "\n",
        "# Calculate Total Energy Consumption (kWh)\n",
        "df['Total Energy Consumption (kWh)'] = df['Total KM'] * df['Energy per km'].round(2)"
      ]
    },
    {
      "cell_type": "code",
      "execution_count": 14,
      "id": "d1859674",
      "metadata": {
        "colab": {
          "base_uri": "https://localhost:8080/"
        },
        "id": "d1859674",
        "outputId": "f29596b2-7145-4d83-8eaa-cabee40427ac"
      },
      "outputs": [
        {
          "data": {
            "text/plain": [
              "Bus Type\n",
              "12    123239\n",
              "9       6275\n",
              "Name: count, dtype: int64"
            ]
          },
          "execution_count": 14,
          "metadata": {},
          "output_type": "execute_result"
        }
      ],
      "source": [
        "df['Bus Type'].value_counts()"
      ]
    },
    {
      "cell_type": "code",
      "execution_count": 15,
      "id": "76d1eb73",
      "metadata": {
        "id": "76d1eb73"
      },
      "outputs": [],
      "source": [
        "df['Act_start_Month'] = df['Act start Datetime'].dt.month"
      ]
    },
    {
      "cell_type": "code",
      "execution_count": 16,
      "id": "61d38022",
      "metadata": {
        "id": "61d38022"
      },
      "outputs": [],
      "source": [
        "df['Act_start_Day_of_Week'] = df['Act start Datetime'].dt.day_name()"
      ]
    },
    {
      "cell_type": "code",
      "execution_count": 17,
      "id": "503b3ed8",
      "metadata": {
        "id": "503b3ed8",
        "scrolled": true
      },
      "outputs": [],
      "source": [
        "# Extract date and time components from 'from_date'\n",
        "#df[\"Act_start_Day\"] = df[\"Act start Datetime\"].dt.day_name()\n",
        "df[\"Act_start_name\"] = df[\"Act start Datetime\"].dt.month_name()\n",
        "df[\"Act_start_Hour\"] = df[\"Act start Datetime\"].dt.hour\n"
      ]
    },
    {
      "cell_type": "markdown",
      "id": "3ae80fd1",
      "metadata": {
        "id": "3ae80fd1"
      },
      "source": [
        "#Extract date and time components from 'booking_created'\n",
        "df[\"Act_End_Day\"] = df[\"Act end Datetime\"].dt.day_name()\n",
        "df[\"Act_End_name\"] = df[\"Act end Datetime\"].dt.month_name()\n",
        "df[\"Act_End_Hour\"] = df[\"Act end Datetime\"].dt.hour"
      ]
    },
    {
      "cell_type": "code",
      "execution_count": 18,
      "id": "44d4153a",
      "metadata": {
        "id": "44d4153a"
      },
      "outputs": [],
      "source": [
        "def cal_season(x):\n",
        "    if x in[10,11,12,1]:\n",
        "        return \"Winter\"\n",
        "    elif x in [2,3]:\n",
        "        return \"Spring\"\n",
        "    elif x in [4,5,6]:\n",
        "        return \"Summer\"\n",
        "    else:\n",
        "        return \"Monsoon\""
      ]
    },
    {
      "cell_type": "code",
      "execution_count": 19,
      "id": "a744119f",
      "metadata": {
        "id": "a744119f"
      },
      "outputs": [],
      "source": [
        "def cal_timing(x):\n",
        "    if x in range(1,4):\n",
        "        return \"Late Night\"\n",
        "    elif x in range(4,12):\n",
        "        return \"Morning\"\n",
        "    elif x in range(12,16):\n",
        "        return \"Afternoon\"\n",
        "    else:\n",
        "        return \"Evening\""
      ]
    },
    {
      "cell_type": "code",
      "execution_count": 20,
      "id": "eca20e8f",
      "metadata": {
        "id": "eca20e8f"
      },
      "outputs": [],
      "source": [
        "df['Act_start_Season'] = df['Act_start_Month'].apply(cal_season)"
      ]
    },
    {
      "cell_type": "markdown",
      "id": "fcf0f601",
      "metadata": {
        "id": "fcf0f601"
      },
      "source": [
        "df['Act_end_Season'] = df['Act_end_Month'].apply(cal_season)"
      ]
    },
    {
      "cell_type": "code",
      "execution_count": 21,
      "id": "75fc3487",
      "metadata": {
        "id": "75fc3487"
      },
      "outputs": [],
      "source": [
        "df['Act_start_time_of_day'] = df['Act_start_Hour'].apply(cal_timing)\n",
        "#df['Act_end_time_of_day'] = df['Act_End_Hour'].apply(cal_timing)"
      ]
    },
    {
      "cell_type": "code",
      "execution_count": 22,
      "id": "aaa2d78b",
      "metadata": {
        "colab": {
          "base_uri": "https://localhost:8080/"
        },
        "id": "aaa2d78b",
        "outputId": "055f4f97-02b1-4201-ef2d-cb99d74c4e08",
        "scrolled": true
      },
      "outputs": [
        {
          "data": {
            "text/plain": [
              "Date                              0\n",
              "Depot                             0\n",
              "Bus No.                           0\n",
              "Bus Type                          0\n",
              "Shift                             0\n",
              "Route\\nNo.                        0\n",
              "Driver ID                         0\n",
              "Act start Datetime                0\n",
              "Act end Datetime                  1\n",
              "Total KM                          0\n",
              "START SOC                         0\n",
              "KM/SOC                            0\n",
              "tempmax                           0\n",
              "tempmin                           0\n",
              "temp                              0\n",
              "windspeed                         0\n",
              "winddir                           0\n",
              "icon                              0\n",
              "Duration                          1\n",
              "Battery Capacity                  0\n",
              "Energy per km                     0\n",
              "Total Energy Consumption (kWh)    0\n",
              "Act_start_Month                   0\n",
              "Act_start_Day_of_Week             0\n",
              "Act_start_name                    0\n",
              "Act_start_Hour                    0\n",
              "Act_start_Season                  0\n",
              "Act_start_time_of_day             0\n",
              "dtype: int64"
            ]
          },
          "execution_count": 22,
          "metadata": {},
          "output_type": "execute_result"
        }
      ],
      "source": [
        "df.isna().sum()"
      ]
    },
    {
      "cell_type": "code",
      "execution_count": 23,
      "id": "10f18663",
      "metadata": {
        "id": "10f18663"
      },
      "outputs": [],
      "source": [
        "df.dropna(subset=['Duration', 'Act end Datetime'], inplace=True)"
      ]
    },
    {
      "cell_type": "code",
      "execution_count": 24,
      "id": "31faf9e7",
      "metadata": {
        "colab": {
          "base_uri": "https://localhost:8080/",
          "height": 451
        },
        "id": "31faf9e7",
        "outputId": "8a37d1ad-f118-4cc1-8cd3-15dc0fb8a69b"
      },
      "outputs": [
        {
          "data": {
            "text/html": [
              "<div>\n",
              "<style scoped>\n",
              "    .dataframe tbody tr th:only-of-type {\n",
              "        vertical-align: middle;\n",
              "    }\n",
              "\n",
              "    .dataframe tbody tr th {\n",
              "        vertical-align: top;\n",
              "    }\n",
              "\n",
              "    .dataframe thead th {\n",
              "        text-align: right;\n",
              "    }\n",
              "</style>\n",
              "<table border=\"1\" class=\"dataframe\">\n",
              "  <thead>\n",
              "    <tr style=\"text-align: right;\">\n",
              "      <th></th>\n",
              "      <th>Date</th>\n",
              "      <th>Depot</th>\n",
              "      <th>Bus No.</th>\n",
              "      <th>Bus Type</th>\n",
              "      <th>Shift</th>\n",
              "      <th>Route\\nNo.</th>\n",
              "      <th>Driver ID</th>\n",
              "      <th>Act start Datetime</th>\n",
              "      <th>Act end Datetime</th>\n",
              "      <th>Total KM</th>\n",
              "      <th>START SOC</th>\n",
              "      <th>KM/SOC</th>\n",
              "      <th>tempmax</th>\n",
              "      <th>tempmin</th>\n",
              "      <th>temp</th>\n",
              "      <th>windspeed</th>\n",
              "      <th>winddir</th>\n",
              "      <th>icon</th>\n",
              "      <th>Duration</th>\n",
              "      <th>Battery Capacity</th>\n",
              "      <th>Energy per km</th>\n",
              "      <th>Total Energy Consumption (kWh)</th>\n",
              "      <th>Act_start_Month</th>\n",
              "      <th>Act_start_Day_of_Week</th>\n",
              "      <th>Act_start_name</th>\n",
              "      <th>Act_start_Hour</th>\n",
              "      <th>Act_start_Season</th>\n",
              "      <th>Act_start_time_of_day</th>\n",
              "    </tr>\n",
              "  </thead>\n",
              "  <tbody>\n",
              "    <tr>\n",
              "      <th>0</th>\n",
              "      <td>2023-08-01</td>\n",
              "      <td>PUNE NGD</td>\n",
              "      <td>E120</td>\n",
              "      <td>12</td>\n",
              "      <td>1</td>\n",
              "      <td>43</td>\n",
              "      <td>MV442</td>\n",
              "      <td>2023-08-01 07:05:00</td>\n",
              "      <td>2023-08-01 14:10:00</td>\n",
              "      <td>137.0</td>\n",
              "      <td>99.0</td>\n",
              "      <td>1.900000</td>\n",
              "      <td>27.3</td>\n",
              "      <td>21.8</td>\n",
              "      <td>23.4</td>\n",
              "      <td>27.7</td>\n",
              "      <td>259.3</td>\n",
              "      <td>rain</td>\n",
              "      <td>0 days 07:05:00</td>\n",
              "      <td>314</td>\n",
              "      <td>1.652632</td>\n",
              "      <td>226.05</td>\n",
              "      <td>8</td>\n",
              "      <td>Tuesday</td>\n",
              "      <td>August</td>\n",
              "      <td>7</td>\n",
              "      <td>Monsoon</td>\n",
              "      <td>Morning</td>\n",
              "    </tr>\n",
              "    <tr>\n",
              "      <th>1</th>\n",
              "      <td>2023-08-01</td>\n",
              "      <td>PUNE NGD</td>\n",
              "      <td>E120</td>\n",
              "      <td>12</td>\n",
              "      <td>2</td>\n",
              "      <td>314</td>\n",
              "      <td>MV443</td>\n",
              "      <td>2023-08-01 15:25:00</td>\n",
              "      <td>2023-08-01 22:20:00</td>\n",
              "      <td>59.0</td>\n",
              "      <td>54.0</td>\n",
              "      <td>2.034483</td>\n",
              "      <td>27.3</td>\n",
              "      <td>21.8</td>\n",
              "      <td>23.4</td>\n",
              "      <td>27.7</td>\n",
              "      <td>259.3</td>\n",
              "      <td>rain</td>\n",
              "      <td>0 days 06:55:00</td>\n",
              "      <td>314</td>\n",
              "      <td>1.543377</td>\n",
              "      <td>90.86</td>\n",
              "      <td>8</td>\n",
              "      <td>Tuesday</td>\n",
              "      <td>August</td>\n",
              "      <td>15</td>\n",
              "      <td>Monsoon</td>\n",
              "      <td>Afternoon</td>\n",
              "    </tr>\n",
              "    <tr>\n",
              "      <th>2</th>\n",
              "      <td>2023-08-01</td>\n",
              "      <td>PUNE NGD</td>\n",
              "      <td>E03</td>\n",
              "      <td>9</td>\n",
              "      <td>1</td>\n",
              "      <td>329</td>\n",
              "      <td>MV421</td>\n",
              "      <td>2023-08-01 06:20:00</td>\n",
              "      <td>2023-08-01 14:05:00</td>\n",
              "      <td>125.0</td>\n",
              "      <td>98.0</td>\n",
              "      <td>1.838235</td>\n",
              "      <td>27.3</td>\n",
              "      <td>21.8</td>\n",
              "      <td>23.4</td>\n",
              "      <td>27.7</td>\n",
              "      <td>259.3</td>\n",
              "      <td>rain</td>\n",
              "      <td>0 days 07:45:00</td>\n",
              "      <td>200</td>\n",
              "      <td>1.088021</td>\n",
              "      <td>136.25</td>\n",
              "      <td>8</td>\n",
              "      <td>Tuesday</td>\n",
              "      <td>August</td>\n",
              "      <td>6</td>\n",
              "      <td>Monsoon</td>\n",
              "      <td>Morning</td>\n",
              "    </tr>\n",
              "    <tr>\n",
              "      <th>3</th>\n",
              "      <td>2023-08-01</td>\n",
              "      <td>PUNE NGD</td>\n",
              "      <td>E05</td>\n",
              "      <td>9</td>\n",
              "      <td>3</td>\n",
              "      <td>303</td>\n",
              "      <td>MV291</td>\n",
              "      <td>2023-08-01 07:55:00</td>\n",
              "      <td>2023-08-01 19:40:00</td>\n",
              "      <td>154.0</td>\n",
              "      <td>98.0</td>\n",
              "      <td>1.833333</td>\n",
              "      <td>27.3</td>\n",
              "      <td>21.8</td>\n",
              "      <td>23.4</td>\n",
              "      <td>27.7</td>\n",
              "      <td>259.3</td>\n",
              "      <td>rain</td>\n",
              "      <td>0 days 11:45:00</td>\n",
              "      <td>200</td>\n",
              "      <td>1.090929</td>\n",
              "      <td>167.86</td>\n",
              "      <td>8</td>\n",
              "      <td>Tuesday</td>\n",
              "      <td>August</td>\n",
              "      <td>7</td>\n",
              "      <td>Monsoon</td>\n",
              "      <td>Morning</td>\n",
              "    </tr>\n",
              "    <tr>\n",
              "      <th>4</th>\n",
              "      <td>2023-08-01</td>\n",
              "      <td>PUNE NGD</td>\n",
              "      <td>E07</td>\n",
              "      <td>9</td>\n",
              "      <td>2</td>\n",
              "      <td>374</td>\n",
              "      <td>MV466</td>\n",
              "      <td>2023-08-01 13:45:00</td>\n",
              "      <td>2023-08-01 20:55:00</td>\n",
              "      <td>97.0</td>\n",
              "      <td>65.0</td>\n",
              "      <td>1.979592</td>\n",
              "      <td>27.3</td>\n",
              "      <td>21.8</td>\n",
              "      <td>23.4</td>\n",
              "      <td>27.7</td>\n",
              "      <td>259.3</td>\n",
              "      <td>rain</td>\n",
              "      <td>0 days 07:10:00</td>\n",
              "      <td>200</td>\n",
              "      <td>1.010305</td>\n",
              "      <td>97.97</td>\n",
              "      <td>8</td>\n",
              "      <td>Tuesday</td>\n",
              "      <td>August</td>\n",
              "      <td>13</td>\n",
              "      <td>Monsoon</td>\n",
              "      <td>Afternoon</td>\n",
              "    </tr>\n",
              "  </tbody>\n",
              "</table>\n",
              "</div>"
            ],
            "text/plain": [
              "        Date     Depot Bus No.  Bus Type  Shift Route\\nNo. Driver ID  \\\n",
              "0 2023-08-01  PUNE NGD    E120        12      1         43     MV442   \n",
              "1 2023-08-01  PUNE NGD    E120        12      2        314     MV443   \n",
              "2 2023-08-01  PUNE NGD     E03         9      1        329     MV421   \n",
              "3 2023-08-01  PUNE NGD     E05         9      3        303     MV291   \n",
              "4 2023-08-01  PUNE NGD     E07         9      2        374     MV466   \n",
              "\n",
              "   Act start Datetime    Act end Datetime  Total KM  START SOC    KM/SOC  \\\n",
              "0 2023-08-01 07:05:00 2023-08-01 14:10:00     137.0       99.0  1.900000   \n",
              "1 2023-08-01 15:25:00 2023-08-01 22:20:00      59.0       54.0  2.034483   \n",
              "2 2023-08-01 06:20:00 2023-08-01 14:05:00     125.0       98.0  1.838235   \n",
              "3 2023-08-01 07:55:00 2023-08-01 19:40:00     154.0       98.0  1.833333   \n",
              "4 2023-08-01 13:45:00 2023-08-01 20:55:00      97.0       65.0  1.979592   \n",
              "\n",
              "   tempmax  tempmin  temp  windspeed  winddir  icon        Duration  \\\n",
              "0     27.3     21.8  23.4       27.7    259.3  rain 0 days 07:05:00   \n",
              "1     27.3     21.8  23.4       27.7    259.3  rain 0 days 06:55:00   \n",
              "2     27.3     21.8  23.4       27.7    259.3  rain 0 days 07:45:00   \n",
              "3     27.3     21.8  23.4       27.7    259.3  rain 0 days 11:45:00   \n",
              "4     27.3     21.8  23.4       27.7    259.3  rain 0 days 07:10:00   \n",
              "\n",
              "   Battery Capacity  Energy per km  Total Energy Consumption (kWh)  \\\n",
              "0               314       1.652632                          226.05   \n",
              "1               314       1.543377                           90.86   \n",
              "2               200       1.088021                          136.25   \n",
              "3               200       1.090929                          167.86   \n",
              "4               200       1.010305                           97.97   \n",
              "\n",
              "   Act_start_Month Act_start_Day_of_Week Act_start_name  Act_start_Hour  \\\n",
              "0                8               Tuesday         August               7   \n",
              "1                8               Tuesday         August              15   \n",
              "2                8               Tuesday         August               6   \n",
              "3                8               Tuesday         August               7   \n",
              "4                8               Tuesday         August              13   \n",
              "\n",
              "  Act_start_Season Act_start_time_of_day  \n",
              "0          Monsoon               Morning  \n",
              "1          Monsoon             Afternoon  \n",
              "2          Monsoon               Morning  \n",
              "3          Monsoon               Morning  \n",
              "4          Monsoon             Afternoon  "
            ]
          },
          "execution_count": 24,
          "metadata": {},
          "output_type": "execute_result"
        }
      ],
      "source": [
        "df.head()"
      ]
    },
    {
      "cell_type": "code",
      "execution_count": 25,
      "id": "b6e2640c",
      "metadata": {
        "colab": {
          "base_uri": "https://localhost:8080/"
        },
        "id": "b6e2640c",
        "outputId": "a1773702-efd5-4ee1-8e84-ad7ff5b8c9ca"
      },
      "outputs": [
        {
          "data": {
            "text/plain": [
              "(129513, 28)"
            ]
          },
          "execution_count": 25,
          "metadata": {},
          "output_type": "execute_result"
        }
      ],
      "source": [
        "df.shape"
      ]
    },
    {
      "cell_type": "code",
      "execution_count": 26,
      "id": "da3527df",
      "metadata": {
        "id": "da3527df"
      },
      "outputs": [],
      "source": [
        "# Replace multiple values using a dictionary\n",
        "df['Bus No.'] = df['Bus No.'].replace({'E2291': 'E291', 'e413': 'E413','e342': 'E342', 'E4034': 'E434',' E455': 'E455', 'E3161': 'E316',\n",
        "                                      'E288456': 'E288', 'E4535': 'E453'})\n"
      ]
    },
    {
      "cell_type": "markdown",
      "id": "7ea72014",
      "metadata": {
        "id": "7ea72014"
      },
      "source": [
        "# EDA"
      ]
    },
    {
      "cell_type": "markdown",
      "id": "f139b0f3",
      "metadata": {
        "id": "f139b0f3",
        "scrolled": true
      },
      "source": [
        "sns.distplot(df['Total SOC'].dropna(),kde=False,color='darkred',bins=40)"
      ]
    },
    {
      "cell_type": "code",
      "execution_count": 27,
      "id": "36096207",
      "metadata": {
        "colab": {
          "base_uri": "https://localhost:8080/",
          "height": 466
        },
        "id": "36096207",
        "outputId": "458e3f93-7fc9-4b95-9adf-6c7d58a8e5ce",
        "scrolled": false
      },
      "outputs": [
        {
          "data": {
            "text/plain": [
              "<Axes: xlabel='Total KM'>"
            ]
          },
          "execution_count": 27,
          "metadata": {},
          "output_type": "execute_result"
        },
        {
          "data": {
            "image/png": "[encoded data removed]",
            "text/plain": [
              "<Figure size 640x480 with 1 Axes>"
            ]
          },
          "metadata": {},
          "output_type": "display_data"
        }
      ],
      "source": [
        "sns.distplot(df['Total KM'].dropna(),kde=False,color='darkred',bins=40)"
      ]
    },
    {
      "cell_type": "code",
      "execution_count": 28,
      "id": "2e24a69c",
      "metadata": {
        "colab": {
          "base_uri": "https://localhost:8080/",
          "height": 545
        },
        "id": "2e24a69c",
        "outputId": "d0365b4b-d2aa-4f46-c709-cbbaf9ea66bc"
      },
      "outputs": [
        {
          "data": {
            "image/png": "[encoded data removed]",
            "text/plain": [
              "<Figure size 1000x600 with 1 Axes>"
            ]
          },
          "metadata": {},
          "output_type": "display_data"
        }
      ],
      "source": [
        "# Plot a boxplot for 'Total KM'\n",
        "plt.figure(figsize=(10, 6))\n",
        "df.boxplot(column='Total KM')\n",
        "plt.title('Boxplot of Total KM')\n",
        "plt.ylabel('Total KM')\n",
        "plt.show()"
      ]
    },
    {
      "cell_type": "code",
      "execution_count": 29,
      "id": "16985749",
      "metadata": {
        "colab": {
          "base_uri": "https://localhost:8080/",
          "height": 545
        },
        "id": "16985749",
        "outputId": "73efa15a-2ab8-477f-bb6c-c41b82bfdaf7"
      },
      "outputs": [
        {
          "data": {
            "image/png": "[encoded data removed]",
            "text/plain": [
              "<Figure size 1000x600 with 1 Axes>"
            ]
          },
          "metadata": {},
          "output_type": "display_data"
        }
      ],
      "source": [
        "# Plot a boxplot for multiple columns\n",
        "plt.figure(figsize=(10, 6))\n",
        "df[['Energy per km', 'KM/SOC']].boxplot()\n",
        "plt.title('Boxplot of Total KM and KM/SOC')\n",
        "plt.ylabel('Values')\n",
        "plt.show()\n"
      ]
    },
    {
      "cell_type": "code",
      "execution_count": 30,
      "id": "21a252dc",
      "metadata": {
        "colab": {
          "base_uri": "https://localhost:8080/",
          "height": 479
        },
        "id": "21a252dc",
        "outputId": "8e68834f-93a1-4dbe-f080-aa8bd059bba7"
      },
      "outputs": [
        {
          "data": {
            "text/plain": [
              "<Figure size 1000x600 with 0 Axes>"
            ]
          },
          "metadata": {},
          "output_type": "display_data"
        },
        {
          "data": {
            "image/png": "[encoded data removed]",
            "text/plain": [
              "<Figure size 640x480 with 1 Axes>"
            ]
          },
          "metadata": {},
          "output_type": "display_data"
        }
      ],
      "source": [
        "# Plot a boxplot grouped by 'Bus Type'\n",
        "plt.figure(figsize=(10, 6))\n",
        "df.boxplot(column='Total KM', by='Bus Type')\n",
        "plt.title('Boxplot of Total KM by Bus Type')\n",
        "plt.suptitle('')  # Suppress the default title to avoid duplication\n",
        "plt.xlabel('Bus Type')\n",
        "plt.ylabel('Total KM')\n",
        "plt.show()\n"
      ]
    },
    {
      "cell_type": "code",
      "execution_count": 31,
      "id": "5796685f",
      "metadata": {
        "colab": {
          "base_uri": "https://localhost:8080/",
          "height": 850
        },
        "id": "5796685f",
        "outputId": "597fff10-b169-4c87-b3eb-1969d6f14826",
        "scrolled": true
      },
      "outputs": [
        {
          "data": {
            "image/png": "[encoded data removed]",
            "text/plain": [
              "<Figure size 1000x1000 with 1 Axes>"
            ]
          },
          "metadata": {},
          "output_type": "display_data"
        }
      ],
      "source": [
        "plt.figure(figsize = (10,10))\n",
        "sns.barplot(x = 'Act_start_name' ,y = 'Total Energy Consumption (kWh)', data = df)\n",
        "plt.show()"
      ]
    },
    {
      "cell_type": "markdown",
      "id": "214f3bca",
      "metadata": {
        "id": "214f3bca",
        "scrolled": true
      },
      "source": [
        "# Set the figure size\n",
        "plt.figure(figsize=(10,10))\n",
        "\n",
        "# Create a bar plot\n",
        "sns.barplot(x='Total Energy Consumption (kWh)', y='Act_End_Day', data=df, ci=None)\n",
        "\n",
        "# Display the plot\n",
        "plt.show()"
      ]
    },
    {
      "cell_type": "code",
      "execution_count": 32,
      "id": "a8f68758",
      "metadata": {
        "colab": {
          "base_uri": "https://localhost:8080/",
          "height": 850
        },
        "id": "a8f68758",
        "outputId": "98a5a8e8-3e6a-44d6-ecf2-74ecab540130",
        "scrolled": true
      },
      "outputs": [
        {
          "data": {
            "image/png": "[encoded data removed]",
            "text/plain": [
              "<Figure size 1000x1000 with 1 Axes>"
            ]
          },
          "metadata": {},
          "output_type": "display_data"
        }
      ],
      "source": [
        "plt.figure(figsize=(10, 10))\n",
        "\n",
        "# Create a scatter plot\n",
        "sns.scatterplot(x='Total KM', y='Total Energy Consumption (kWh)', data=df)\n",
        "\n",
        "# Display the plot\n",
        "plt.show()"
      ]
    },
    {
      "cell_type": "code",
      "execution_count": 33,
      "id": "e7qtGPhQY0rE",
      "metadata": {
        "colab": {
          "base_uri": "https://localhost:8080/",
          "height": 619
        },
        "id": "e7qtGPhQY0rE",
        "outputId": "dd10caee-63b7-48e9-eb7f-ce21919b1dc3"
      },
      "outputs": [
        {
          "data": {
            "image/png": "[encoded data removed]",
            "text/plain": [
              "<Figure size 700x700 with 1 Axes>"
            ]
          },
          "metadata": {},
          "output_type": "display_data"
        }
      ],
      "source": [
        "\n",
        "\n",
        "# Assuming 'df' is your DataFrame containing the data\n",
        "plt.figure(figsize=(7, 7))\n",
        "\n",
        "# Create a scatter plot\n",
        "sns.barplot(x=df['Act_start_time_of_day'], y=df['Total Energy Consumption (kWh)'])\n",
        "\n",
        "# Display the plot\n",
        "plt.show()\n"
      ]
    },
    {
      "cell_type": "markdown",
      "id": "0789c856",
      "metadata": {
        "id": "0789c856"
      },
      "source": [
        "# Data Cleaning"
      ]
    },
    {
      "cell_type": "code",
      "execution_count": 34,
      "id": "735bfce3",
      "metadata": {
        "id": "735bfce3"
      },
      "outputs": [],
      "source": [
        "filter_data = df.copy()"
      ]
    },
    {
      "cell_type": "code",
      "execution_count": 35,
      "id": "59b8aa6c",
      "metadata": {
        "colab": {
          "base_uri": "https://localhost:8080/"
        },
        "id": "59b8aa6c",
        "outputId": "1d8b429a-31d8-431c-c27b-9ffa6ec64449"
      },
      "outputs": [
        {
          "data": {
            "text/plain": [
              "(129513, 28)"
            ]
          },
          "execution_count": 35,
          "metadata": {},
          "output_type": "execute_result"
        }
      ],
      "source": [
        "filter_data.shape"
      ]
    },
    {
      "cell_type": "code",
      "execution_count": 36,
      "id": "dbfeb58f",
      "metadata": {
        "id": "dbfeb58f"
      },
      "outputs": [],
      "source": [
        "filter_data['Bus No.'] = filter_data['Bus No.'].str.replace(r'^E', '', regex=True)"
      ]
    },
    {
      "cell_type": "code",
      "execution_count": 37,
      "id": "a5c26794",
      "metadata": {
        "id": "a5c26794"
      },
      "outputs": [],
      "source": [
        "filter_data['Bus No.'] = pd.to_numeric(filter_data['Bus No.'])"
      ]
    },
    {
      "cell_type": "code",
      "execution_count": 38,
      "id": "37663d20",
      "metadata": {
        "colab": {
          "base_uri": "https://localhost:8080/"
        },
        "id": "37663d20",
        "outputId": "3b143e1b-3a2c-4401-ca5c-9ba8ca58eb6a"
      },
      "outputs": [
        {
          "data": {
            "text/plain": [
              "(129499, 28)"
            ]
          },
          "execution_count": 38,
          "metadata": {},
          "output_type": "execute_result"
        }
      ],
      "source": [
        "filter_data = filter_data.drop_duplicates()\n",
        "filter_data.shape"
      ]
    },
    {
      "cell_type": "markdown",
      "id": "9ce96a59",
      "metadata": {
        "id": "9ce96a59"
      },
      "source": [
        "filter_data.to_excel(r'E:\\Twarit\\Olectra\\Energy prediction model\\1 model data\\new_data.xlsx')"
      ]
    },
    {
      "cell_type": "code",
      "execution_count": 39,
      "id": "d9c8ef75",
      "metadata": {
        "id": "d9c8ef75"
      },
      "outputs": [],
      "source": [
        "filter_data.drop(['Act end Datetime','Date','Act_start_name','Energy per km','Act_start_Hour'],axis = 1,inplace =True)"
      ]
    },
    {
      "cell_type": "code",
      "execution_count": 40,
      "id": "f7f75b1f",
      "metadata": {
        "colab": {
          "base_uri": "https://localhost:8080/"
        },
        "id": "f7f75b1f",
        "outputId": "1045d4ac-0971-4e01-c8f5-de1a7b73d3aa"
      },
      "outputs": [
        {
          "data": {
            "text/plain": [
              "Bus Type\n",
              "12    123224\n",
              "9       6275\n",
              "Name: count, dtype: int64"
            ]
          },
          "execution_count": 40,
          "metadata": {},
          "output_type": "execute_result"
        }
      ],
      "source": [
        "filter_data['Bus Type'].value_counts()"
      ]
    },
    {
      "cell_type": "code",
      "execution_count": 41,
      "id": "12e9d014",
      "metadata": {
        "colab": {
          "base_uri": "https://localhost:8080/"
        },
        "collapsed": true,
        "id": "12e9d014",
        "outputId": "f24ba8c6-a876-4e25-fb7d-4f7d33b357f4"
      },
      "outputs": [
        {
          "data": {
            "text/plain": [
              "Driver ID\n",
              "BT-259    211\n",
              "BT-019    173\n",
              "MV466     173\n",
              "BT-025    173\n",
              "WT-172    172\n",
              "         ... \n",
              "PT77        1\n",
              "WT127       1\n",
              "PT158       1\n",
              "WT-175      1\n",
              "MV304       1\n",
              "Name: count, Length: 1863, dtype: int64"
            ]
          },
          "execution_count": 41,
          "metadata": {},
          "output_type": "execute_result"
        }
      ],
      "source": [
        "#pd.set_option('display.max_rows',None)\n",
        "filter_data['Driver ID'].value_counts()"
      ]
    },
    {
      "cell_type": "code",
      "execution_count": 42,
      "id": "9c4b9ede",
      "metadata": {
        "id": "9c4b9ede"
      },
      "outputs": [],
      "source": [
        "Values_to_drop_2 = ['ROHAN CHAVAN','SOMNATH KUBHAR','Krushna Kandare','SUNIL CHAVAN','Vishal Chavan','Dhanraj','CHANDRKANT SHINDE',\n",
        "                   'UTTRESHWAR SHINDE','samadhan','CHAKRDHAR SHINDE','RAMDAS PAWAR','VIJAY MALI','LAXIMAN RAMGUDE',\n",
        "                   'CHANDRKANT YANNAVAR','SOMNATH','Param sidhi','ROSHAN CHAVAN','NAMDEV BONDGE','VIJAY PUJARI',\n",
        "                   'SATISH BAGAL','SALMAN INAMDAR']\n",
        "filter_data = filter_data.drop(filter_data[filter_data['Driver ID'] .isin(Values_to_drop_2)].index)"
      ]
    },
    {
      "cell_type": "code",
      "execution_count": 43,
      "id": "d8d31cc2",
      "metadata": {
        "colab": {
          "base_uri": "https://localhost:8080/"
        },
        "id": "d8d31cc2",
        "outputId": "96284b11-6014-4d66-8890-067db562cad5"
      },
      "outputs": [
        {
          "data": {
            "text/plain": [
              "1843"
            ]
          },
          "execution_count": 43,
          "metadata": {},
          "output_type": "execute_result"
        }
      ],
      "source": [
        "filter_data['Driver ID'].nunique()"
      ]
    },
    {
      "cell_type": "code",
      "execution_count": 44,
      "id": "cd58f9f8",
      "metadata": {
        "colab": {
          "base_uri": "https://localhost:8080/"
        },
        "collapsed": true,
        "id": "cd58f9f8",
        "outputId": "842afa1d-e67d-405c-ba27-f46b6c5a22ac"
      },
      "outputs": [
        {
          "data": {
            "text/plain": [
              "Route\\nNo.\n",
              "43        3106\n",
              "348       2452\n",
              "369       1514\n",
              "149       1470\n",
              "314       1361\n",
              "          ... \n",
              "357          1\n",
              "312          1\n",
              "151          1\n",
              "276/14       1\n",
              "133          1\n",
              "Name: count, Length: 589, dtype: int64"
            ]
          },
          "execution_count": 44,
          "metadata": {},
          "output_type": "execute_result"
        }
      ],
      "source": [
        "#pd.set_option('display.max_rows',None)\n",
        "filter_data['Route\\nNo.'].value_counts()"
      ]
    },
    {
      "cell_type": "code",
      "execution_count": 45,
      "id": "4bb586b1",
      "metadata": {
        "colab": {
          "base_uri": "https://localhost:8080/"
        },
        "id": "4bb586b1",
        "outputId": "c941f64b-b6a4-4ef3-cda1-5b8d99ee1570"
      },
      "outputs": [
        {
          "data": {
            "text/plain": [
              "589"
            ]
          },
          "execution_count": 45,
          "metadata": {},
          "output_type": "execute_result"
        }
      ],
      "source": [
        "filter_data['Route\\nNo.'].nunique()"
      ]
    },
    {
      "cell_type": "code",
      "execution_count": 46,
      "id": "337eea65",
      "metadata": {
        "id": "337eea65"
      },
      "outputs": [],
      "source": [
        "filter_data['Unique Route ID'] = pd.factorize(filter_data['Route\\nNo.'])[0]"
      ]
    },
    {
      "cell_type": "code",
      "execution_count": 47,
      "id": "Lm1J-HRk_ENj",
      "metadata": {
        "id": "Lm1J-HRk_ENj"
      },
      "outputs": [],
      "source": [
        "# Create a mapping between Unique Route ID and Route No.\n",
        "route_id_mapping = filter_data[['Unique Route ID', 'Route\\nNo.']].drop_duplicates().sort_values(by='Unique Route ID')\n"
      ]
    },
    {
      "cell_type": "code",
      "execution_count": 48,
      "id": "e3bd6f0f",
      "metadata": {},
      "outputs": [
        {
          "data": {
            "text/html": [
              "<div>\n",
              "<style scoped>\n",
              "    .dataframe tbody tr th:only-of-type {\n",
              "        vertical-align: middle;\n",
              "    }\n",
              "\n",
              "    .dataframe tbody tr th {\n",
              "        vertical-align: top;\n",
              "    }\n",
              "\n",
              "    .dataframe thead th {\n",
              "        text-align: right;\n",
              "    }\n",
              "</style>\n",
              "<table border=\"1\" class=\"dataframe\">\n",
              "  <thead>\n",
              "    <tr style=\"text-align: right;\">\n",
              "      <th></th>\n",
              "      <th>Depot</th>\n",
              "      <th>Bus No.</th>\n",
              "      <th>Bus Type</th>\n",
              "      <th>Shift</th>\n",
              "      <th>Route\\nNo.</th>\n",
              "      <th>Driver ID</th>\n",
              "      <th>Act start Datetime</th>\n",
              "      <th>Total KM</th>\n",
              "      <th>START SOC</th>\n",
              "      <th>KM/SOC</th>\n",
              "      <th>tempmax</th>\n",
              "      <th>tempmin</th>\n",
              "      <th>temp</th>\n",
              "      <th>windspeed</th>\n",
              "      <th>winddir</th>\n",
              "      <th>icon</th>\n",
              "      <th>Duration</th>\n",
              "      <th>Battery Capacity</th>\n",
              "      <th>Total Energy Consumption (kWh)</th>\n",
              "      <th>Act_start_Month</th>\n",
              "      <th>Act_start_Day_of_Week</th>\n",
              "      <th>Act_start_Season</th>\n",
              "      <th>Act_start_time_of_day</th>\n",
              "      <th>Unique Route ID</th>\n",
              "    </tr>\n",
              "  </thead>\n",
              "  <tbody>\n",
              "    <tr>\n",
              "      <th>0</th>\n",
              "      <td>PUNE NGD</td>\n",
              "      <td>120.0</td>\n",
              "      <td>12</td>\n",
              "      <td>1</td>\n",
              "      <td>43</td>\n",
              "      <td>MV442</td>\n",
              "      <td>2023-08-01 07:05:00</td>\n",
              "      <td>137.0</td>\n",
              "      <td>99.0</td>\n",
              "      <td>1.900000</td>\n",
              "      <td>27.3</td>\n",
              "      <td>21.8</td>\n",
              "      <td>23.4</td>\n",
              "      <td>27.7</td>\n",
              "      <td>259.3</td>\n",
              "      <td>rain</td>\n",
              "      <td>0 days 07:05:00</td>\n",
              "      <td>314</td>\n",
              "      <td>226.05</td>\n",
              "      <td>8</td>\n",
              "      <td>Tuesday</td>\n",
              "      <td>Monsoon</td>\n",
              "      <td>Morning</td>\n",
              "      <td>0</td>\n",
              "    </tr>\n",
              "    <tr>\n",
              "      <th>1</th>\n",
              "      <td>PUNE NGD</td>\n",
              "      <td>120.0</td>\n",
              "      <td>12</td>\n",
              "      <td>2</td>\n",
              "      <td>314</td>\n",
              "      <td>MV443</td>\n",
              "      <td>2023-08-01 15:25:00</td>\n",
              "      <td>59.0</td>\n",
              "      <td>54.0</td>\n",
              "      <td>2.034483</td>\n",
              "      <td>27.3</td>\n",
              "      <td>21.8</td>\n",
              "      <td>23.4</td>\n",
              "      <td>27.7</td>\n",
              "      <td>259.3</td>\n",
              "      <td>rain</td>\n",
              "      <td>0 days 06:55:00</td>\n",
              "      <td>314</td>\n",
              "      <td>90.86</td>\n",
              "      <td>8</td>\n",
              "      <td>Tuesday</td>\n",
              "      <td>Monsoon</td>\n",
              "      <td>Afternoon</td>\n",
              "      <td>1</td>\n",
              "    </tr>\n",
              "    <tr>\n",
              "      <th>2</th>\n",
              "      <td>PUNE NGD</td>\n",
              "      <td>3.0</td>\n",
              "      <td>9</td>\n",
              "      <td>1</td>\n",
              "      <td>329</td>\n",
              "      <td>MV421</td>\n",
              "      <td>2023-08-01 06:20:00</td>\n",
              "      <td>125.0</td>\n",
              "      <td>98.0</td>\n",
              "      <td>1.838235</td>\n",
              "      <td>27.3</td>\n",
              "      <td>21.8</td>\n",
              "      <td>23.4</td>\n",
              "      <td>27.7</td>\n",
              "      <td>259.3</td>\n",
              "      <td>rain</td>\n",
              "      <td>0 days 07:45:00</td>\n",
              "      <td>200</td>\n",
              "      <td>136.25</td>\n",
              "      <td>8</td>\n",
              "      <td>Tuesday</td>\n",
              "      <td>Monsoon</td>\n",
              "      <td>Morning</td>\n",
              "      <td>2</td>\n",
              "    </tr>\n",
              "    <tr>\n",
              "      <th>3</th>\n",
              "      <td>PUNE NGD</td>\n",
              "      <td>5.0</td>\n",
              "      <td>9</td>\n",
              "      <td>3</td>\n",
              "      <td>303</td>\n",
              "      <td>MV291</td>\n",
              "      <td>2023-08-01 07:55:00</td>\n",
              "      <td>154.0</td>\n",
              "      <td>98.0</td>\n",
              "      <td>1.833333</td>\n",
              "      <td>27.3</td>\n",
              "      <td>21.8</td>\n",
              "      <td>23.4</td>\n",
              "      <td>27.7</td>\n",
              "      <td>259.3</td>\n",
              "      <td>rain</td>\n",
              "      <td>0 days 11:45:00</td>\n",
              "      <td>200</td>\n",
              "      <td>167.86</td>\n",
              "      <td>8</td>\n",
              "      <td>Tuesday</td>\n",
              "      <td>Monsoon</td>\n",
              "      <td>Morning</td>\n",
              "      <td>3</td>\n",
              "    </tr>\n",
              "    <tr>\n",
              "      <th>4</th>\n",
              "      <td>PUNE NGD</td>\n",
              "      <td>7.0</td>\n",
              "      <td>9</td>\n",
              "      <td>2</td>\n",
              "      <td>374</td>\n",
              "      <td>MV466</td>\n",
              "      <td>2023-08-01 13:45:00</td>\n",
              "      <td>97.0</td>\n",
              "      <td>65.0</td>\n",
              "      <td>1.979592</td>\n",
              "      <td>27.3</td>\n",
              "      <td>21.8</td>\n",
              "      <td>23.4</td>\n",
              "      <td>27.7</td>\n",
              "      <td>259.3</td>\n",
              "      <td>rain</td>\n",
              "      <td>0 days 07:10:00</td>\n",
              "      <td>200</td>\n",
              "      <td>97.97</td>\n",
              "      <td>8</td>\n",
              "      <td>Tuesday</td>\n",
              "      <td>Monsoon</td>\n",
              "      <td>Afternoon</td>\n",
              "      <td>4</td>\n",
              "    </tr>\n",
              "  </tbody>\n",
              "</table>\n",
              "</div>"
            ],
            "text/plain": [
              "      Depot  Bus No.  Bus Type  Shift Route\\nNo. Driver ID  \\\n",
              "0  PUNE NGD    120.0        12      1         43     MV442   \n",
              "1  PUNE NGD    120.0        12      2        314     MV443   \n",
              "2  PUNE NGD      3.0         9      1        329     MV421   \n",
              "3  PUNE NGD      5.0         9      3        303     MV291   \n",
              "4  PUNE NGD      7.0         9      2        374     MV466   \n",
              "\n",
              "   Act start Datetime  Total KM  START SOC    KM/SOC  tempmax  tempmin  temp  \\\n",
              "0 2023-08-01 07:05:00     137.0       99.0  1.900000     27.3     21.8  23.4   \n",
              "1 2023-08-01 15:25:00      59.0       54.0  2.034483     27.3     21.8  23.4   \n",
              "2 2023-08-01 06:20:00     125.0       98.0  1.838235     27.3     21.8  23.4   \n",
              "3 2023-08-01 07:55:00     154.0       98.0  1.833333     27.3     21.8  23.4   \n",
              "4 2023-08-01 13:45:00      97.0       65.0  1.979592     27.3     21.8  23.4   \n",
              "\n",
              "   windspeed  winddir  icon        Duration  Battery Capacity  \\\n",
              "0       27.7    259.3  rain 0 days 07:05:00               314   \n",
              "1       27.7    259.3  rain 0 days 06:55:00               314   \n",
              "2       27.7    259.3  rain 0 days 07:45:00               200   \n",
              "3       27.7    259.3  rain 0 days 11:45:00               200   \n",
              "4       27.7    259.3  rain 0 days 07:10:00               200   \n",
              "\n",
              "   Total Energy Consumption (kWh)  Act_start_Month Act_start_Day_of_Week  \\\n",
              "0                          226.05                8               Tuesday   \n",
              "1                           90.86                8               Tuesday   \n",
              "2                          136.25                8               Tuesday   \n",
              "3                          167.86                8               Tuesday   \n",
              "4                           97.97                8               Tuesday   \n",
              "\n",
              "  Act_start_Season Act_start_time_of_day  Unique Route ID  \n",
              "0          Monsoon               Morning                0  \n",
              "1          Monsoon             Afternoon                1  \n",
              "2          Monsoon               Morning                2  \n",
              "3          Monsoon               Morning                3  \n",
              "4          Monsoon             Afternoon                4  "
            ]
          },
          "execution_count": 48,
          "metadata": {},
          "output_type": "execute_result"
        }
      ],
      "source": [
        "filter_data.head()"
      ]
    },
    {
      "cell_type": "code",
      "execution_count": null,
      "id": "cd53886e",
      "metadata": {},
      "outputs": [],
      "source": []
    },
    {
      "cell_type": "code",
      "execution_count": 49,
      "id": "06cd26e1",
      "metadata": {},
      "outputs": [],
      "source": [
        "# Create a mapping between Unique Route ID and Route No.\n",
        "#Unique_Driver_ID = filter_data[['Unique Driver ID', 'Driver ID']].drop_duplicates().sort_values(by='Unique Driver ID')"
      ]
    },
    {
      "cell_type": "code",
      "execution_count": 50,
      "id": "28f6d22b",
      "metadata": {},
      "outputs": [],
      "source": [
        "#Unique_Driver_ID.to_excel(r\"E:\\Twarit\\Olectra\\Energy prediction model\\deployment\\Energy_Prediction\\Unique_Driver_ID.xlsx\")"
      ]
    },
    {
      "cell_type": "code",
      "execution_count": 51,
      "id": "a16a53ba",
      "metadata": {},
      "outputs": [
        {
          "data": {
            "text/plain": [
              "array(['PUNE NGD', 'PUNE BANER', 'PUNE WAGHOLI', 'PUNE STATION',\n",
              "       'PUNE BKR', 'PUNE BKR NEW', 'Pune BKR New'], dtype=object)"
            ]
          },
          "execution_count": 51,
          "metadata": {},
          "output_type": "execute_result"
        }
      ],
      "source": [
        "filter_data['Depot'].unique()"
      ]
    },
    {
      "cell_type": "code",
      "execution_count": 52,
      "id": "601ca87a",
      "metadata": {},
      "outputs": [
        {
          "data": {
            "text/plain": [
              "array(['Tuesday', 'Wednesday', 'Thursday', 'Friday', 'Saturday', 'Sunday',\n",
              "       'Monday'], dtype=object)"
            ]
          },
          "execution_count": 52,
          "metadata": {},
          "output_type": "execute_result"
        }
      ],
      "source": [
        "filter_data['Act_start_Day_of_Week'].unique()"
      ]
    },
    {
      "cell_type": "code",
      "execution_count": 53,
      "id": "71842143",
      "metadata": {},
      "outputs": [
        {
          "data": {
            "text/plain": [
              "inf"
            ]
          },
          "execution_count": 53,
          "metadata": {},
          "output_type": "execute_result"
        }
      ],
      "source": [
        "filter_data['Total Energy Consumption (kWh)'].max()"
      ]
    },
    {
      "cell_type": "code",
      "execution_count": 54,
      "id": "49891979",
      "metadata": {},
      "outputs": [
        {
          "data": {
            "text/plain": [
              "array(['Monsoon', 'Winter'], dtype=object)"
            ]
          },
          "execution_count": 54,
          "metadata": {},
          "output_type": "execute_result"
        }
      ],
      "source": [
        "filter_data['Act_start_Season'].unique()"
      ]
    },
    {
      "cell_type": "code",
      "execution_count": 55,
      "id": "317fa107",
      "metadata": {},
      "outputs": [
        {
          "data": {
            "text/plain": [
              "array(['rain', 'partly-cloudy-day', 'clear-day', 'cloudy'], dtype=object)"
            ]
          },
          "execution_count": 55,
          "metadata": {},
          "output_type": "execute_result"
        }
      ],
      "source": [
        "filter_data['icon'].unique()"
      ]
    },
    {
      "cell_type": "code",
      "execution_count": 56,
      "id": "43e5b4bc",
      "metadata": {},
      "outputs": [],
      "source": [
        "filter_data['Depot'] = filter_data['Depot'].replace('Pune BKR New', 'PUNE BKR NEW')"
      ]
    },
    {
      "cell_type": "code",
      "execution_count": 57,
      "id": "IjDEI7eXAdes",
      "metadata": {
        "id": "IjDEI7eXAdes"
      },
      "outputs": [],
      "source": [
        "#from google.colab import files"
      ]
    },
    {
      "cell_type": "code",
      "execution_count": 58,
      "id": "f0sqXAT9Adtw",
      "metadata": {
        "id": "f0sqXAT9Adtw"
      },
      "outputs": [],
      "source": [
        "#route_id_mapping.to_csv('/content/route_id_mapping.csv', index=False)"
      ]
    },
    {
      "cell_type": "code",
      "execution_count": 59,
      "id": "QFJ0L6QgA7f1",
      "metadata": {
        "id": "QFJ0L6QgA7f1"
      },
      "outputs": [],
      "source": [
        "#files.download('/content/route_id_mapping.csv')"
      ]
    },
    {
      "cell_type": "code",
      "execution_count": null,
      "id": "kbIXUdEBA72A",
      "metadata": {
        "id": "kbIXUdEBA72A"
      },
      "outputs": [],
      "source": []
    },
    {
      "cell_type": "code",
      "execution_count": 60,
      "id": "CAJDj3Qu_Ecg",
      "metadata": {
        "colab": {
          "base_uri": "https://localhost:8080/",
          "height": 206
        },
        "id": "CAJDj3Qu_Ecg",
        "outputId": "2679a7df-49a9-416d-f385-165065da4ed5"
      },
      "outputs": [
        {
          "data": {
            "text/html": [
              "<div>\n",
              "<style scoped>\n",
              "    .dataframe tbody tr th:only-of-type {\n",
              "        vertical-align: middle;\n",
              "    }\n",
              "\n",
              "    .dataframe tbody tr th {\n",
              "        vertical-align: top;\n",
              "    }\n",
              "\n",
              "    .dataframe thead th {\n",
              "        text-align: right;\n",
              "    }\n",
              "</style>\n",
              "<table border=\"1\" class=\"dataframe\">\n",
              "  <thead>\n",
              "    <tr style=\"text-align: right;\">\n",
              "      <th></th>\n",
              "      <th>Unique Route ID</th>\n",
              "      <th>Route\\nNo.</th>\n",
              "    </tr>\n",
              "  </thead>\n",
              "  <tbody>\n",
              "    <tr>\n",
              "      <th>0</th>\n",
              "      <td>0</td>\n",
              "      <td>43</td>\n",
              "    </tr>\n",
              "    <tr>\n",
              "      <th>1</th>\n",
              "      <td>1</td>\n",
              "      <td>314</td>\n",
              "    </tr>\n",
              "    <tr>\n",
              "      <th>2</th>\n",
              "      <td>2</td>\n",
              "      <td>329</td>\n",
              "    </tr>\n",
              "    <tr>\n",
              "      <th>3</th>\n",
              "      <td>3</td>\n",
              "      <td>303</td>\n",
              "    </tr>\n",
              "    <tr>\n",
              "      <th>4</th>\n",
              "      <td>4</td>\n",
              "      <td>374</td>\n",
              "    </tr>\n",
              "  </tbody>\n",
              "</table>\n",
              "</div>"
            ],
            "text/plain": [
              "   Unique Route ID Route\\nNo.\n",
              "0                0         43\n",
              "1                1        314\n",
              "2                2        329\n",
              "3                3        303\n",
              "4                4        374"
            ]
          },
          "execution_count": 60,
          "metadata": {},
          "output_type": "execute_result"
        }
      ],
      "source": [
        "route_id_mapping.head()"
      ]
    },
    {
      "cell_type": "code",
      "execution_count": 61,
      "id": "1bec4b15",
      "metadata": {
        "id": "1bec4b15"
      },
      "outputs": [],
      "source": [
        "filter_data['Unique Driver ID'] = pd.factorize(filter_data['Driver ID'])[0]"
      ]
    },
    {
      "cell_type": "code",
      "execution_count": 62,
      "id": "040b5a20",
      "metadata": {
        "colab": {
          "base_uri": "https://localhost:8080/",
          "height": 451
        },
        "collapsed": true,
        "id": "040b5a20",
        "outputId": "0e71f6c4-992d-4cef-bd5b-fb76ffc9e7d4",
        "scrolled": true
      },
      "outputs": [
        {
          "data": {
            "text/html": [
              "<div>\n",
              "<style scoped>\n",
              "    .dataframe tbody tr th:only-of-type {\n",
              "        vertical-align: middle;\n",
              "    }\n",
              "\n",
              "    .dataframe tbody tr th {\n",
              "        vertical-align: top;\n",
              "    }\n",
              "\n",
              "    .dataframe thead th {\n",
              "        text-align: right;\n",
              "    }\n",
              "</style>\n",
              "<table border=\"1\" class=\"dataframe\">\n",
              "  <thead>\n",
              "    <tr style=\"text-align: right;\">\n",
              "      <th></th>\n",
              "      <th>Depot</th>\n",
              "      <th>Bus No.</th>\n",
              "      <th>Bus Type</th>\n",
              "      <th>Shift</th>\n",
              "      <th>Route\\nNo.</th>\n",
              "      <th>Driver ID</th>\n",
              "      <th>Act start Datetime</th>\n",
              "      <th>Total KM</th>\n",
              "      <th>START SOC</th>\n",
              "      <th>KM/SOC</th>\n",
              "      <th>tempmax</th>\n",
              "      <th>tempmin</th>\n",
              "      <th>temp</th>\n",
              "      <th>windspeed</th>\n",
              "      <th>winddir</th>\n",
              "      <th>icon</th>\n",
              "      <th>Duration</th>\n",
              "      <th>Battery Capacity</th>\n",
              "      <th>Total Energy Consumption (kWh)</th>\n",
              "      <th>Act_start_Month</th>\n",
              "      <th>Act_start_Day_of_Week</th>\n",
              "      <th>Act_start_Season</th>\n",
              "      <th>Act_start_time_of_day</th>\n",
              "      <th>Unique Route ID</th>\n",
              "      <th>Unique Driver ID</th>\n",
              "    </tr>\n",
              "  </thead>\n",
              "  <tbody>\n",
              "    <tr>\n",
              "      <th>0</th>\n",
              "      <td>PUNE NGD</td>\n",
              "      <td>120.0</td>\n",
              "      <td>12</td>\n",
              "      <td>1</td>\n",
              "      <td>43</td>\n",
              "      <td>MV442</td>\n",
              "      <td>2023-08-01 07:05:00</td>\n",
              "      <td>137.0</td>\n",
              "      <td>99.0</td>\n",
              "      <td>1.900000</td>\n",
              "      <td>27.3</td>\n",
              "      <td>21.8</td>\n",
              "      <td>23.4</td>\n",
              "      <td>27.7</td>\n",
              "      <td>259.3</td>\n",
              "      <td>rain</td>\n",
              "      <td>0 days 07:05:00</td>\n",
              "      <td>314</td>\n",
              "      <td>226.05</td>\n",
              "      <td>8</td>\n",
              "      <td>Tuesday</td>\n",
              "      <td>Monsoon</td>\n",
              "      <td>Morning</td>\n",
              "      <td>0</td>\n",
              "      <td>0</td>\n",
              "    </tr>\n",
              "    <tr>\n",
              "      <th>1</th>\n",
              "      <td>PUNE NGD</td>\n",
              "      <td>120.0</td>\n",
              "      <td>12</td>\n",
              "      <td>2</td>\n",
              "      <td>314</td>\n",
              "      <td>MV443</td>\n",
              "      <td>2023-08-01 15:25:00</td>\n",
              "      <td>59.0</td>\n",
              "      <td>54.0</td>\n",
              "      <td>2.034483</td>\n",
              "      <td>27.3</td>\n",
              "      <td>21.8</td>\n",
              "      <td>23.4</td>\n",
              "      <td>27.7</td>\n",
              "      <td>259.3</td>\n",
              "      <td>rain</td>\n",
              "      <td>0 days 06:55:00</td>\n",
              "      <td>314</td>\n",
              "      <td>90.86</td>\n",
              "      <td>8</td>\n",
              "      <td>Tuesday</td>\n",
              "      <td>Monsoon</td>\n",
              "      <td>Afternoon</td>\n",
              "      <td>1</td>\n",
              "      <td>1</td>\n",
              "    </tr>\n",
              "    <tr>\n",
              "      <th>2</th>\n",
              "      <td>PUNE NGD</td>\n",
              "      <td>3.0</td>\n",
              "      <td>9</td>\n",
              "      <td>1</td>\n",
              "      <td>329</td>\n",
              "      <td>MV421</td>\n",
              "      <td>2023-08-01 06:20:00</td>\n",
              "      <td>125.0</td>\n",
              "      <td>98.0</td>\n",
              "      <td>1.838235</td>\n",
              "      <td>27.3</td>\n",
              "      <td>21.8</td>\n",
              "      <td>23.4</td>\n",
              "      <td>27.7</td>\n",
              "      <td>259.3</td>\n",
              "      <td>rain</td>\n",
              "      <td>0 days 07:45:00</td>\n",
              "      <td>200</td>\n",
              "      <td>136.25</td>\n",
              "      <td>8</td>\n",
              "      <td>Tuesday</td>\n",
              "      <td>Monsoon</td>\n",
              "      <td>Morning</td>\n",
              "      <td>2</td>\n",
              "      <td>2</td>\n",
              "    </tr>\n",
              "    <tr>\n",
              "      <th>3</th>\n",
              "      <td>PUNE NGD</td>\n",
              "      <td>5.0</td>\n",
              "      <td>9</td>\n",
              "      <td>3</td>\n",
              "      <td>303</td>\n",
              "      <td>MV291</td>\n",
              "      <td>2023-08-01 07:55:00</td>\n",
              "      <td>154.0</td>\n",
              "      <td>98.0</td>\n",
              "      <td>1.833333</td>\n",
              "      <td>27.3</td>\n",
              "      <td>21.8</td>\n",
              "      <td>23.4</td>\n",
              "      <td>27.7</td>\n",
              "      <td>259.3</td>\n",
              "      <td>rain</td>\n",
              "      <td>0 days 11:45:00</td>\n",
              "      <td>200</td>\n",
              "      <td>167.86</td>\n",
              "      <td>8</td>\n",
              "      <td>Tuesday</td>\n",
              "      <td>Monsoon</td>\n",
              "      <td>Morning</td>\n",
              "      <td>3</td>\n",
              "      <td>3</td>\n",
              "    </tr>\n",
              "    <tr>\n",
              "      <th>4</th>\n",
              "      <td>PUNE NGD</td>\n",
              "      <td>7.0</td>\n",
              "      <td>9</td>\n",
              "      <td>2</td>\n",
              "      <td>374</td>\n",
              "      <td>MV466</td>\n",
              "      <td>2023-08-01 13:45:00</td>\n",
              "      <td>97.0</td>\n",
              "      <td>65.0</td>\n",
              "      <td>1.979592</td>\n",
              "      <td>27.3</td>\n",
              "      <td>21.8</td>\n",
              "      <td>23.4</td>\n",
              "      <td>27.7</td>\n",
              "      <td>259.3</td>\n",
              "      <td>rain</td>\n",
              "      <td>0 days 07:10:00</td>\n",
              "      <td>200</td>\n",
              "      <td>97.97</td>\n",
              "      <td>8</td>\n",
              "      <td>Tuesday</td>\n",
              "      <td>Monsoon</td>\n",
              "      <td>Afternoon</td>\n",
              "      <td>4</td>\n",
              "      <td>4</td>\n",
              "    </tr>\n",
              "  </tbody>\n",
              "</table>\n",
              "</div>"
            ],
            "text/plain": [
              "      Depot  Bus No.  Bus Type  Shift Route\\nNo. Driver ID  \\\n",
              "0  PUNE NGD    120.0        12      1         43     MV442   \n",
              "1  PUNE NGD    120.0        12      2        314     MV443   \n",
              "2  PUNE NGD      3.0         9      1        329     MV421   \n",
              "3  PUNE NGD      5.0         9      3        303     MV291   \n",
              "4  PUNE NGD      7.0         9      2        374     MV466   \n",
              "\n",
              "   Act start Datetime  Total KM  START SOC    KM/SOC  tempmax  tempmin  temp  \\\n",
              "0 2023-08-01 07:05:00     137.0       99.0  1.900000     27.3     21.8  23.4   \n",
              "1 2023-08-01 15:25:00      59.0       54.0  2.034483     27.3     21.8  23.4   \n",
              "2 2023-08-01 06:20:00     125.0       98.0  1.838235     27.3     21.8  23.4   \n",
              "3 2023-08-01 07:55:00     154.0       98.0  1.833333     27.3     21.8  23.4   \n",
              "4 2023-08-01 13:45:00      97.0       65.0  1.979592     27.3     21.8  23.4   \n",
              "\n",
              "   windspeed  winddir  icon        Duration  Battery Capacity  \\\n",
              "0       27.7    259.3  rain 0 days 07:05:00               314   \n",
              "1       27.7    259.3  rain 0 days 06:55:00               314   \n",
              "2       27.7    259.3  rain 0 days 07:45:00               200   \n",
              "3       27.7    259.3  rain 0 days 11:45:00               200   \n",
              "4       27.7    259.3  rain 0 days 07:10:00               200   \n",
              "\n",
              "   Total Energy Consumption (kWh)  Act_start_Month Act_start_Day_of_Week  \\\n",
              "0                          226.05                8               Tuesday   \n",
              "1                           90.86                8               Tuesday   \n",
              "2                          136.25                8               Tuesday   \n",
              "3                          167.86                8               Tuesday   \n",
              "4                           97.97                8               Tuesday   \n",
              "\n",
              "  Act_start_Season Act_start_time_of_day  Unique Route ID  Unique Driver ID  \n",
              "0          Monsoon               Morning                0                 0  \n",
              "1          Monsoon             Afternoon                1                 1  \n",
              "2          Monsoon               Morning                2                 2  \n",
              "3          Monsoon               Morning                3                 3  \n",
              "4          Monsoon             Afternoon                4                 4  "
            ]
          },
          "execution_count": 62,
          "metadata": {},
          "output_type": "execute_result"
        }
      ],
      "source": [
        "filter_data.head(5)"
      ]
    },
    {
      "cell_type": "code",
      "execution_count": 63,
      "id": "dbbecce6",
      "metadata": {
        "colab": {
          "base_uri": "https://localhost:8080/",
          "height": 493
        },
        "id": "dbbecce6",
        "outputId": "de3f4883-bbbf-4497-ed74-54ee71daca04"
      },
      "outputs": [
        {
          "data": {
            "text/html": [
              "<div>\n",
              "<style scoped>\n",
              "    .dataframe tbody tr th:only-of-type {\n",
              "        vertical-align: middle;\n",
              "    }\n",
              "\n",
              "    .dataframe tbody tr th {\n",
              "        vertical-align: top;\n",
              "    }\n",
              "\n",
              "    .dataframe thead th {\n",
              "        text-align: right;\n",
              "    }\n",
              "</style>\n",
              "<table border=\"1\" class=\"dataframe\">\n",
              "  <thead>\n",
              "    <tr style=\"text-align: right;\">\n",
              "      <th></th>\n",
              "      <th>Bus No.</th>\n",
              "      <th>Bus Type</th>\n",
              "      <th>Shift</th>\n",
              "      <th>Act start Datetime</th>\n",
              "      <th>Total KM</th>\n",
              "      <th>START SOC</th>\n",
              "      <th>KM/SOC</th>\n",
              "      <th>tempmax</th>\n",
              "      <th>tempmin</th>\n",
              "      <th>temp</th>\n",
              "      <th>windspeed</th>\n",
              "      <th>winddir</th>\n",
              "      <th>Duration</th>\n",
              "      <th>Battery Capacity</th>\n",
              "      <th>Total Energy Consumption (kWh)</th>\n",
              "      <th>Act_start_Month</th>\n",
              "      <th>Unique Route ID</th>\n",
              "      <th>Unique Driver ID</th>\n",
              "    </tr>\n",
              "  </thead>\n",
              "  <tbody>\n",
              "    <tr>\n",
              "      <th>count</th>\n",
              "      <td>129461.000000</td>\n",
              "      <td>129462.000000</td>\n",
              "      <td>129462.000000</td>\n",
              "      <td>129462</td>\n",
              "      <td>129462.000000</td>\n",
              "      <td>129462.000000</td>\n",
              "      <td>129462.000000</td>\n",
              "      <td>129462.000000</td>\n",
              "      <td>129462.000000</td>\n",
              "      <td>129462.000000</td>\n",
              "      <td>129462.000000</td>\n",
              "      <td>129462.000000</td>\n",
              "      <td>129462</td>\n",
              "      <td>129462.000000</td>\n",
              "      <td>129462.000</td>\n",
              "      <td>129462.000000</td>\n",
              "      <td>129462.000000</td>\n",
              "      <td>129462.000000</td>\n",
              "    </tr>\n",
              "    <tr>\n",
              "      <th>mean</th>\n",
              "      <td>232.834985</td>\n",
              "      <td>11.854591</td>\n",
              "      <td>1.660039</td>\n",
              "      <td>2023-11-01 10:50:33.778560512</td>\n",
              "      <td>114.837789</td>\n",
              "      <td>88.496712</td>\n",
              "      <td>2.156543</td>\n",
              "      <td>29.726880</td>\n",
              "      <td>18.273820</td>\n",
              "      <td>23.387957</td>\n",
              "      <td>15.495183</td>\n",
              "      <td>173.260729</td>\n",
              "      <td>0 days 06:07:57.122862307</td>\n",
              "      <td>308.474440</td>\n",
              "      <td>inf</td>\n",
              "      <td>8.292310</td>\n",
              "      <td>204.543557</td>\n",
              "      <td>603.425268</td>\n",
              "    </tr>\n",
              "    <tr>\n",
              "      <th>min</th>\n",
              "      <td>1.000000</td>\n",
              "      <td>9.000000</td>\n",
              "      <td>1.000000</td>\n",
              "      <td>2023-08-01 04:30:00</td>\n",
              "      <td>2.000000</td>\n",
              "      <td>0.000000</td>\n",
              "      <td>-12.125000</td>\n",
              "      <td>23.300000</td>\n",
              "      <td>10.700000</td>\n",
              "      <td>19.200000</td>\n",
              "      <td>7.600000</td>\n",
              "      <td>11.300000</td>\n",
              "      <td>-10 days +08:28:00</td>\n",
              "      <td>200.000000</td>\n",
              "      <td>-75.440</td>\n",
              "      <td>1.000000</td>\n",
              "      <td>0.000000</td>\n",
              "      <td>0.000000</td>\n",
              "    </tr>\n",
              "    <tr>\n",
              "      <th>25%</th>\n",
              "      <td>121.000000</td>\n",
              "      <td>12.000000</td>\n",
              "      <td>1.000000</td>\n",
              "      <td>2023-09-15 14:15:00</td>\n",
              "      <td>94.000000</td>\n",
              "      <td>80.000000</td>\n",
              "      <td>1.805556</td>\n",
              "      <td>28.300000</td>\n",
              "      <td>15.700000</td>\n",
              "      <td>22.500000</td>\n",
              "      <td>11.500000</td>\n",
              "      <td>90.600000</td>\n",
              "      <td>0 days 06:50:00</td>\n",
              "      <td>314.000000</td>\n",
              "      <td>133.025</td>\n",
              "      <td>8.000000</td>\n",
              "      <td>80.000000</td>\n",
              "      <td>255.000000</td>\n",
              "    </tr>\n",
              "    <tr>\n",
              "      <th>50%</th>\n",
              "      <td>231.000000</td>\n",
              "      <td>12.000000</td>\n",
              "      <td>2.000000</td>\n",
              "      <td>2023-10-29 13:40:00</td>\n",
              "      <td>118.000000</td>\n",
              "      <td>98.000000</td>\n",
              "      <td>2.096774</td>\n",
              "      <td>29.800000</td>\n",
              "      <td>19.150000</td>\n",
              "      <td>23.600000</td>\n",
              "      <td>14.400000</td>\n",
              "      <td>129.700000</td>\n",
              "      <td>0 days 08:00:00</td>\n",
              "      <td>314.000000</td>\n",
              "      <td>172.220</td>\n",
              "      <td>9.000000</td>\n",
              "      <td>196.000000</td>\n",
              "      <td>542.000000</td>\n",
              "    </tr>\n",
              "    <tr>\n",
              "      <th>75%</th>\n",
              "      <td>344.000000</td>\n",
              "      <td>12.000000</td>\n",
              "      <td>2.000000</td>\n",
              "      <td>2023-12-21 14:00:00</td>\n",
              "      <td>136.000000</td>\n",
              "      <td>99.000000</td>\n",
              "      <td>2.346939</td>\n",
              "      <td>31.000000</td>\n",
              "      <td>20.800000</td>\n",
              "      <td>24.200000</td>\n",
              "      <td>18.700000</td>\n",
              "      <td>259.000000</td>\n",
              "      <td>0 days 08:40:00</td>\n",
              "      <td>314.000000</td>\n",
              "      <td>206.640</td>\n",
              "      <td>11.000000</td>\n",
              "      <td>310.000000</td>\n",
              "      <td>853.000000</td>\n",
              "    </tr>\n",
              "    <tr>\n",
              "      <th>max</th>\n",
              "      <td>2300.000000</td>\n",
              "      <td>12.000000</td>\n",
              "      <td>3.000000</td>\n",
              "      <td>2024-01-31 19:50:00</td>\n",
              "      <td>282.000000</td>\n",
              "      <td>100.000000</td>\n",
              "      <td>85.000000</td>\n",
              "      <td>34.100000</td>\n",
              "      <td>23.000000</td>\n",
              "      <td>26.600000</td>\n",
              "      <td>28.800000</td>\n",
              "      <td>356.400000</td>\n",
              "      <td>4 days 12:25:00</td>\n",
              "      <td>314.000000</td>\n",
              "      <td>inf</td>\n",
              "      <td>12.000000</td>\n",
              "      <td>588.000000</td>\n",
              "      <td>1842.000000</td>\n",
              "    </tr>\n",
              "    <tr>\n",
              "      <th>std</th>\n",
              "      <td>131.679826</td>\n",
              "      <td>0.644273</td>\n",
              "      <td>0.667242</td>\n",
              "      <td>NaN</td>\n",
              "      <td>36.261750</td>\n",
              "      <td>15.620207</td>\n",
              "      <td>0.711554</td>\n",
              "      <td>1.929428</td>\n",
              "      <td>3.065118</td>\n",
              "      <td>1.469339</td>\n",
              "      <td>4.840347</td>\n",
              "      <td>93.541891</td>\n",
              "      <td>0 days 07:12:12.279675002</td>\n",
              "      <td>24.482374</td>\n",
              "      <td>NaN</td>\n",
              "      <td>3.736732</td>\n",
              "      <td>143.779522</td>\n",
              "      <td>425.591429</td>\n",
              "    </tr>\n",
              "  </tbody>\n",
              "</table>\n",
              "</div>"
            ],
            "text/plain": [
              "             Bus No.       Bus Type          Shift  \\\n",
              "count  129461.000000  129462.000000  129462.000000   \n",
              "mean      232.834985      11.854591       1.660039   \n",
              "min         1.000000       9.000000       1.000000   \n",
              "25%       121.000000      12.000000       1.000000   \n",
              "50%       231.000000      12.000000       2.000000   \n",
              "75%       344.000000      12.000000       2.000000   \n",
              "max      2300.000000      12.000000       3.000000   \n",
              "std       131.679826       0.644273       0.667242   \n",
              "\n",
              "                  Act start Datetime       Total KM      START SOC  \\\n",
              "count                         129462  129462.000000  129462.000000   \n",
              "mean   2023-11-01 10:50:33.778560512     114.837789      88.496712   \n",
              "min              2023-08-01 04:30:00       2.000000       0.000000   \n",
              "25%              2023-09-15 14:15:00      94.000000      80.000000   \n",
              "50%              2023-10-29 13:40:00     118.000000      98.000000   \n",
              "75%              2023-12-21 14:00:00     136.000000      99.000000   \n",
              "max              2024-01-31 19:50:00     282.000000     100.000000   \n",
              "std                              NaN      36.261750      15.620207   \n",
              "\n",
              "              KM/SOC        tempmax        tempmin           temp  \\\n",
              "count  129462.000000  129462.000000  129462.000000  129462.000000   \n",
              "mean        2.156543      29.726880      18.273820      23.387957   \n",
              "min       -12.125000      23.300000      10.700000      19.200000   \n",
              "25%         1.805556      28.300000      15.700000      22.500000   \n",
              "50%         2.096774      29.800000      19.150000      23.600000   \n",
              "75%         2.346939      31.000000      20.800000      24.200000   \n",
              "max        85.000000      34.100000      23.000000      26.600000   \n",
              "std         0.711554       1.929428       3.065118       1.469339   \n",
              "\n",
              "           windspeed        winddir                   Duration  \\\n",
              "count  129462.000000  129462.000000                     129462   \n",
              "mean       15.495183     173.260729  0 days 06:07:57.122862307   \n",
              "min         7.600000      11.300000         -10 days +08:28:00   \n",
              "25%        11.500000      90.600000            0 days 06:50:00   \n",
              "50%        14.400000     129.700000            0 days 08:00:00   \n",
              "75%        18.700000     259.000000            0 days 08:40:00   \n",
              "max        28.800000     356.400000            4 days 12:25:00   \n",
              "std         4.840347      93.541891  0 days 07:12:12.279675002   \n",
              "\n",
              "       Battery Capacity  Total Energy Consumption (kWh)  Act_start_Month  \\\n",
              "count     129462.000000                      129462.000    129462.000000   \n",
              "mean         308.474440                             inf         8.292310   \n",
              "min          200.000000                         -75.440         1.000000   \n",
              "25%          314.000000                         133.025         8.000000   \n",
              "50%          314.000000                         172.220         9.000000   \n",
              "75%          314.000000                         206.640        11.000000   \n",
              "max          314.000000                             inf        12.000000   \n",
              "std           24.482374                             NaN         3.736732   \n",
              "\n",
              "       Unique Route ID  Unique Driver ID  \n",
              "count    129462.000000     129462.000000  \n",
              "mean        204.543557        603.425268  \n",
              "min           0.000000          0.000000  \n",
              "25%          80.000000        255.000000  \n",
              "50%         196.000000        542.000000  \n",
              "75%         310.000000        853.000000  \n",
              "max         588.000000       1842.000000  \n",
              "std         143.779522        425.591429  "
            ]
          },
          "execution_count": 63,
          "metadata": {},
          "output_type": "execute_result"
        }
      ],
      "source": [
        "filter_data.describe()"
      ]
    },
    {
      "cell_type": "code",
      "execution_count": 64,
      "id": "d5acd27c",
      "metadata": {
        "id": "d5acd27c"
      },
      "outputs": [],
      "source": [
        "filter_data = filter_data.loc[\n",
        "    (filter_data['Total Energy Consumption (kWh)'] > 0) &\n",
        "    (filter_data['Total Energy Consumption (kWh)'] <= 500)\n",
        "]"
      ]
    },
    {
      "cell_type": "code",
      "execution_count": 65,
      "id": "nPTdMWJybBM2",
      "metadata": {
        "id": "nPTdMWJybBM2"
      },
      "outputs": [],
      "source": [
        "filter_data = filter_data.loc[\n",
        "    (filter_data['KM/SOC'] > 0) &\n",
        "    (filter_data['KM/SOC'] <= 5)\n",
        "]"
      ]
    },
    {
      "cell_type": "code",
      "execution_count": 66,
      "id": "c2cf5934",
      "metadata": {
        "colab": {
          "base_uri": "https://localhost:8080/"
        },
        "id": "c2cf5934",
        "outputId": "e1a76f23-ea4e-4a60-b62b-38b1ebd2d0b3"
      },
      "outputs": [
        {
          "data": {
            "text/plain": [
              "495.93"
            ]
          },
          "execution_count": 66,
          "metadata": {},
          "output_type": "execute_result"
        }
      ],
      "source": [
        "filter_data['Total Energy Consumption (kWh)'].max()"
      ]
    },
    {
      "cell_type": "code",
      "execution_count": 67,
      "id": "1834349f",
      "metadata": {
        "id": "1834349f",
        "scrolled": true
      },
      "outputs": [],
      "source": [
        "\n",
        "filter_data = filter_data.loc[\n",
        "    (filter_data['Duration'] > pd.Timedelta(hours=0)) &\n",
        "    (filter_data['Duration'] <= pd.Timedelta(hours=24))\n",
        "]\n"
      ]
    },
    {
      "cell_type": "code",
      "execution_count": 68,
      "id": "88j6AEPUVG3_",
      "metadata": {
        "id": "88j6AEPUVG3_"
      },
      "outputs": [],
      "source": [
        "filter_data.dropna(subset=['Act start Datetime'], inplace=True)"
      ]
    },
    {
      "cell_type": "code",
      "execution_count": 69,
      "id": "baab4967",
      "metadata": {
        "colab": {
          "base_uri": "https://localhost:8080/"
        },
        "id": "baab4967",
        "outputId": "65aea56a-837f-4082-b503-c3f26ef5e35f"
      },
      "outputs": [
        {
          "data": {
            "text/plain": [
              "(115727, 25)"
            ]
          },
          "execution_count": 69,
          "metadata": {},
          "output_type": "execute_result"
        }
      ],
      "source": [
        "filter_data.shape"
      ]
    },
    {
      "cell_type": "code",
      "execution_count": 70,
      "id": "78oZHwB-gxw7",
      "metadata": {
        "id": "78oZHwB-gxw7"
      },
      "outputs": [],
      "source": [
        "filter_data['Start_Time'] = filter_data['Act start Datetime'].dt.time"
      ]
    },
    {
      "cell_type": "code",
      "execution_count": 71,
      "id": "AUM9DxoUgx0P",
      "metadata": {
        "id": "AUM9DxoUgx0P"
      },
      "outputs": [],
      "source": [
        "filter_data['Hour'] = filter_data['Act start Datetime'].dt.hour\n",
        "filter_data['Minute'] = filter_data['Act start Datetime'].dt.minute"
      ]
    },
    {
      "cell_type": "code",
      "execution_count": 72,
      "id": "-0BpR7dUjR61",
      "metadata": {
        "colab": {
          "base_uri": "https://localhost:8080/",
          "height": 451
        },
        "id": "-0BpR7dUjR61",
        "outputId": "61545338-8414-44fb-e63a-056812038a61"
      },
      "outputs": [
        {
          "data": {
            "text/html": [
              "<div>\n",
              "<style scoped>\n",
              "    .dataframe tbody tr th:only-of-type {\n",
              "        vertical-align: middle;\n",
              "    }\n",
              "\n",
              "    .dataframe tbody tr th {\n",
              "        vertical-align: top;\n",
              "    }\n",
              "\n",
              "    .dataframe thead th {\n",
              "        text-align: right;\n",
              "    }\n",
              "</style>\n",
              "<table border=\"1\" class=\"dataframe\">\n",
              "  <thead>\n",
              "    <tr style=\"text-align: right;\">\n",
              "      <th></th>\n",
              "      <th>Depot</th>\n",
              "      <th>Bus No.</th>\n",
              "      <th>Bus Type</th>\n",
              "      <th>Shift</th>\n",
              "      <th>Route\\nNo.</th>\n",
              "      <th>Driver ID</th>\n",
              "      <th>Act start Datetime</th>\n",
              "      <th>Total KM</th>\n",
              "      <th>START SOC</th>\n",
              "      <th>KM/SOC</th>\n",
              "      <th>tempmax</th>\n",
              "      <th>tempmin</th>\n",
              "      <th>temp</th>\n",
              "      <th>windspeed</th>\n",
              "      <th>winddir</th>\n",
              "      <th>icon</th>\n",
              "      <th>Duration</th>\n",
              "      <th>Battery Capacity</th>\n",
              "      <th>Total Energy Consumption (kWh)</th>\n",
              "      <th>Act_start_Month</th>\n",
              "      <th>Act_start_Day_of_Week</th>\n",
              "      <th>Act_start_Season</th>\n",
              "      <th>Act_start_time_of_day</th>\n",
              "      <th>Unique Route ID</th>\n",
              "      <th>Unique Driver ID</th>\n",
              "      <th>Start_Time</th>\n",
              "      <th>Hour</th>\n",
              "      <th>Minute</th>\n",
              "    </tr>\n",
              "  </thead>\n",
              "  <tbody>\n",
              "    <tr>\n",
              "      <th>0</th>\n",
              "      <td>PUNE NGD</td>\n",
              "      <td>120.0</td>\n",
              "      <td>12</td>\n",
              "      <td>1</td>\n",
              "      <td>43</td>\n",
              "      <td>MV442</td>\n",
              "      <td>2023-08-01 07:05:00</td>\n",
              "      <td>137.0</td>\n",
              "      <td>99.0</td>\n",
              "      <td>1.900000</td>\n",
              "      <td>27.3</td>\n",
              "      <td>21.8</td>\n",
              "      <td>23.4</td>\n",
              "      <td>27.7</td>\n",
              "      <td>259.3</td>\n",
              "      <td>rain</td>\n",
              "      <td>0 days 07:05:00</td>\n",
              "      <td>314</td>\n",
              "      <td>226.05</td>\n",
              "      <td>8</td>\n",
              "      <td>Tuesday</td>\n",
              "      <td>Monsoon</td>\n",
              "      <td>Morning</td>\n",
              "      <td>0</td>\n",
              "      <td>0</td>\n",
              "      <td>07:05:00</td>\n",
              "      <td>7</td>\n",
              "      <td>5</td>\n",
              "    </tr>\n",
              "    <tr>\n",
              "      <th>1</th>\n",
              "      <td>PUNE NGD</td>\n",
              "      <td>120.0</td>\n",
              "      <td>12</td>\n",
              "      <td>2</td>\n",
              "      <td>314</td>\n",
              "      <td>MV443</td>\n",
              "      <td>2023-08-01 15:25:00</td>\n",
              "      <td>59.0</td>\n",
              "      <td>54.0</td>\n",
              "      <td>2.034483</td>\n",
              "      <td>27.3</td>\n",
              "      <td>21.8</td>\n",
              "      <td>23.4</td>\n",
              "      <td>27.7</td>\n",
              "      <td>259.3</td>\n",
              "      <td>rain</td>\n",
              "      <td>0 days 06:55:00</td>\n",
              "      <td>314</td>\n",
              "      <td>90.86</td>\n",
              "      <td>8</td>\n",
              "      <td>Tuesday</td>\n",
              "      <td>Monsoon</td>\n",
              "      <td>Afternoon</td>\n",
              "      <td>1</td>\n",
              "      <td>1</td>\n",
              "      <td>15:25:00</td>\n",
              "      <td>15</td>\n",
              "      <td>25</td>\n",
              "    </tr>\n",
              "    <tr>\n",
              "      <th>2</th>\n",
              "      <td>PUNE NGD</td>\n",
              "      <td>3.0</td>\n",
              "      <td>9</td>\n",
              "      <td>1</td>\n",
              "      <td>329</td>\n",
              "      <td>MV421</td>\n",
              "      <td>2023-08-01 06:20:00</td>\n",
              "      <td>125.0</td>\n",
              "      <td>98.0</td>\n",
              "      <td>1.838235</td>\n",
              "      <td>27.3</td>\n",
              "      <td>21.8</td>\n",
              "      <td>23.4</td>\n",
              "      <td>27.7</td>\n",
              "      <td>259.3</td>\n",
              "      <td>rain</td>\n",
              "      <td>0 days 07:45:00</td>\n",
              "      <td>200</td>\n",
              "      <td>136.25</td>\n",
              "      <td>8</td>\n",
              "      <td>Tuesday</td>\n",
              "      <td>Monsoon</td>\n",
              "      <td>Morning</td>\n",
              "      <td>2</td>\n",
              "      <td>2</td>\n",
              "      <td>06:20:00</td>\n",
              "      <td>6</td>\n",
              "      <td>20</td>\n",
              "    </tr>\n",
              "    <tr>\n",
              "      <th>3</th>\n",
              "      <td>PUNE NGD</td>\n",
              "      <td>5.0</td>\n",
              "      <td>9</td>\n",
              "      <td>3</td>\n",
              "      <td>303</td>\n",
              "      <td>MV291</td>\n",
              "      <td>2023-08-01 07:55:00</td>\n",
              "      <td>154.0</td>\n",
              "      <td>98.0</td>\n",
              "      <td>1.833333</td>\n",
              "      <td>27.3</td>\n",
              "      <td>21.8</td>\n",
              "      <td>23.4</td>\n",
              "      <td>27.7</td>\n",
              "      <td>259.3</td>\n",
              "      <td>rain</td>\n",
              "      <td>0 days 11:45:00</td>\n",
              "      <td>200</td>\n",
              "      <td>167.86</td>\n",
              "      <td>8</td>\n",
              "      <td>Tuesday</td>\n",
              "      <td>Monsoon</td>\n",
              "      <td>Morning</td>\n",
              "      <td>3</td>\n",
              "      <td>3</td>\n",
              "      <td>07:55:00</td>\n",
              "      <td>7</td>\n",
              "      <td>55</td>\n",
              "    </tr>\n",
              "    <tr>\n",
              "      <th>4</th>\n",
              "      <td>PUNE NGD</td>\n",
              "      <td>7.0</td>\n",
              "      <td>9</td>\n",
              "      <td>2</td>\n",
              "      <td>374</td>\n",
              "      <td>MV466</td>\n",
              "      <td>2023-08-01 13:45:00</td>\n",
              "      <td>97.0</td>\n",
              "      <td>65.0</td>\n",
              "      <td>1.979592</td>\n",
              "      <td>27.3</td>\n",
              "      <td>21.8</td>\n",
              "      <td>23.4</td>\n",
              "      <td>27.7</td>\n",
              "      <td>259.3</td>\n",
              "      <td>rain</td>\n",
              "      <td>0 days 07:10:00</td>\n",
              "      <td>200</td>\n",
              "      <td>97.97</td>\n",
              "      <td>8</td>\n",
              "      <td>Tuesday</td>\n",
              "      <td>Monsoon</td>\n",
              "      <td>Afternoon</td>\n",
              "      <td>4</td>\n",
              "      <td>4</td>\n",
              "      <td>13:45:00</td>\n",
              "      <td>13</td>\n",
              "      <td>45</td>\n",
              "    </tr>\n",
              "  </tbody>\n",
              "</table>\n",
              "</div>"
            ],
            "text/plain": [
              "      Depot  Bus No.  Bus Type  Shift Route\\nNo. Driver ID  \\\n",
              "0  PUNE NGD    120.0        12      1         43     MV442   \n",
              "1  PUNE NGD    120.0        12      2        314     MV443   \n",
              "2  PUNE NGD      3.0         9      1        329     MV421   \n",
              "3  PUNE NGD      5.0         9      3        303     MV291   \n",
              "4  PUNE NGD      7.0         9      2        374     MV466   \n",
              "\n",
              "   Act start Datetime  Total KM  START SOC    KM/SOC  tempmax  tempmin  temp  \\\n",
              "0 2023-08-01 07:05:00     137.0       99.0  1.900000     27.3     21.8  23.4   \n",
              "1 2023-08-01 15:25:00      59.0       54.0  2.034483     27.3     21.8  23.4   \n",
              "2 2023-08-01 06:20:00     125.0       98.0  1.838235     27.3     21.8  23.4   \n",
              "3 2023-08-01 07:55:00     154.0       98.0  1.833333     27.3     21.8  23.4   \n",
              "4 2023-08-01 13:45:00      97.0       65.0  1.979592     27.3     21.8  23.4   \n",
              "\n",
              "   windspeed  winddir  icon        Duration  Battery Capacity  \\\n",
              "0       27.7    259.3  rain 0 days 07:05:00               314   \n",
              "1       27.7    259.3  rain 0 days 06:55:00               314   \n",
              "2       27.7    259.3  rain 0 days 07:45:00               200   \n",
              "3       27.7    259.3  rain 0 days 11:45:00               200   \n",
              "4       27.7    259.3  rain 0 days 07:10:00               200   \n",
              "\n",
              "   Total Energy Consumption (kWh)  Act_start_Month Act_start_Day_of_Week  \\\n",
              "0                          226.05                8               Tuesday   \n",
              "1                           90.86                8               Tuesday   \n",
              "2                          136.25                8               Tuesday   \n",
              "3                          167.86                8               Tuesday   \n",
              "4                           97.97                8               Tuesday   \n",
              "\n",
              "  Act_start_Season Act_start_time_of_day  Unique Route ID  Unique Driver ID  \\\n",
              "0          Monsoon               Morning                0                 0   \n",
              "1          Monsoon             Afternoon                1                 1   \n",
              "2          Monsoon               Morning                2                 2   \n",
              "3          Monsoon               Morning                3                 3   \n",
              "4          Monsoon             Afternoon                4                 4   \n",
              "\n",
              "  Start_Time  Hour  Minute  \n",
              "0   07:05:00     7       5  \n",
              "1   15:25:00    15      25  \n",
              "2   06:20:00     6      20  \n",
              "3   07:55:00     7      55  \n",
              "4   13:45:00    13      45  "
            ]
          },
          "execution_count": 72,
          "metadata": {},
          "output_type": "execute_result"
        }
      ],
      "source": [
        "filter_data.head()"
      ]
    },
    {
      "cell_type": "code",
      "execution_count": 73,
      "id": "M0ZH6y2wgx3v",
      "metadata": {
        "id": "M0ZH6y2wgx3v"
      },
      "outputs": [
        {
          "data": {
            "text/plain": [
              "282.0"
            ]
          },
          "execution_count": 73,
          "metadata": {},
          "output_type": "execute_result"
        }
      ],
      "source": [
        "filter_data['Total KM'].max()"
      ]
    },
    {
      "cell_type": "markdown",
      "id": "6795f347",
      "metadata": {
        "id": "6795f347"
      },
      "source": [
        "# Data Preprocessing"
      ]
    },
    {
      "cell_type": "code",
      "execution_count": 74,
      "id": "04af7dff",
      "metadata": {
        "id": "04af7dff"
      },
      "outputs": [],
      "source": [
        "final_data = filter_data.copy()"
      ]
    },
    {
      "cell_type": "code",
      "execution_count": 75,
      "id": "6ac90b94",
      "metadata": {
        "id": "6ac90b94"
      },
      "outputs": [],
      "source": [
        "final_data.drop(['Route\\nNo.','Driver ID','Battery Capacity','KM/SOC','winddir','windspeed','tempmax','tempmin','Duration'],axis= 1, inplace =True)"
      ]
    },
    {
      "cell_type": "code",
      "execution_count": 76,
      "id": "019e173d",
      "metadata": {
        "colab": {
          "base_uri": "https://localhost:8080/",
          "height": 451
        },
        "id": "019e173d",
        "outputId": "b71e98ec-5106-4da2-8c99-025c2a1038dc"
      },
      "outputs": [
        {
          "data": {
            "text/html": [
              "<div>\n",
              "<style scoped>\n",
              "    .dataframe tbody tr th:only-of-type {\n",
              "        vertical-align: middle;\n",
              "    }\n",
              "\n",
              "    .dataframe tbody tr th {\n",
              "        vertical-align: top;\n",
              "    }\n",
              "\n",
              "    .dataframe thead th {\n",
              "        text-align: right;\n",
              "    }\n",
              "</style>\n",
              "<table border=\"1\" class=\"dataframe\">\n",
              "  <thead>\n",
              "    <tr style=\"text-align: right;\">\n",
              "      <th></th>\n",
              "      <th>Depot</th>\n",
              "      <th>Bus No.</th>\n",
              "      <th>Bus Type</th>\n",
              "      <th>Shift</th>\n",
              "      <th>Act start Datetime</th>\n",
              "      <th>Total KM</th>\n",
              "      <th>START SOC</th>\n",
              "      <th>temp</th>\n",
              "      <th>icon</th>\n",
              "      <th>Total Energy Consumption (kWh)</th>\n",
              "      <th>Act_start_Month</th>\n",
              "      <th>Act_start_Day_of_Week</th>\n",
              "      <th>Act_start_Season</th>\n",
              "      <th>Act_start_time_of_day</th>\n",
              "      <th>Unique Route ID</th>\n",
              "      <th>Unique Driver ID</th>\n",
              "      <th>Start_Time</th>\n",
              "      <th>Hour</th>\n",
              "      <th>Minute</th>\n",
              "    </tr>\n",
              "  </thead>\n",
              "  <tbody>\n",
              "    <tr>\n",
              "      <th>0</th>\n",
              "      <td>PUNE NGD</td>\n",
              "      <td>120.0</td>\n",
              "      <td>12</td>\n",
              "      <td>1</td>\n",
              "      <td>2023-08-01 07:05:00</td>\n",
              "      <td>137.0</td>\n",
              "      <td>99.0</td>\n",
              "      <td>23.4</td>\n",
              "      <td>rain</td>\n",
              "      <td>226.05</td>\n",
              "      <td>8</td>\n",
              "      <td>Tuesday</td>\n",
              "      <td>Monsoon</td>\n",
              "      <td>Morning</td>\n",
              "      <td>0</td>\n",
              "      <td>0</td>\n",
              "      <td>07:05:00</td>\n",
              "      <td>7</td>\n",
              "      <td>5</td>\n",
              "    </tr>\n",
              "    <tr>\n",
              "      <th>1</th>\n",
              "      <td>PUNE NGD</td>\n",
              "      <td>120.0</td>\n",
              "      <td>12</td>\n",
              "      <td>2</td>\n",
              "      <td>2023-08-01 15:25:00</td>\n",
              "      <td>59.0</td>\n",
              "      <td>54.0</td>\n",
              "      <td>23.4</td>\n",
              "      <td>rain</td>\n",
              "      <td>90.86</td>\n",
              "      <td>8</td>\n",
              "      <td>Tuesday</td>\n",
              "      <td>Monsoon</td>\n",
              "      <td>Afternoon</td>\n",
              "      <td>1</td>\n",
              "      <td>1</td>\n",
              "      <td>15:25:00</td>\n",
              "      <td>15</td>\n",
              "      <td>25</td>\n",
              "    </tr>\n",
              "    <tr>\n",
              "      <th>2</th>\n",
              "      <td>PUNE NGD</td>\n",
              "      <td>3.0</td>\n",
              "      <td>9</td>\n",
              "      <td>1</td>\n",
              "      <td>2023-08-01 06:20:00</td>\n",
              "      <td>125.0</td>\n",
              "      <td>98.0</td>\n",
              "      <td>23.4</td>\n",
              "      <td>rain</td>\n",
              "      <td>136.25</td>\n",
              "      <td>8</td>\n",
              "      <td>Tuesday</td>\n",
              "      <td>Monsoon</td>\n",
              "      <td>Morning</td>\n",
              "      <td>2</td>\n",
              "      <td>2</td>\n",
              "      <td>06:20:00</td>\n",
              "      <td>6</td>\n",
              "      <td>20</td>\n",
              "    </tr>\n",
              "    <tr>\n",
              "      <th>3</th>\n",
              "      <td>PUNE NGD</td>\n",
              "      <td>5.0</td>\n",
              "      <td>9</td>\n",
              "      <td>3</td>\n",
              "      <td>2023-08-01 07:55:00</td>\n",
              "      <td>154.0</td>\n",
              "      <td>98.0</td>\n",
              "      <td>23.4</td>\n",
              "      <td>rain</td>\n",
              "      <td>167.86</td>\n",
              "      <td>8</td>\n",
              "      <td>Tuesday</td>\n",
              "      <td>Monsoon</td>\n",
              "      <td>Morning</td>\n",
              "      <td>3</td>\n",
              "      <td>3</td>\n",
              "      <td>07:55:00</td>\n",
              "      <td>7</td>\n",
              "      <td>55</td>\n",
              "    </tr>\n",
              "    <tr>\n",
              "      <th>4</th>\n",
              "      <td>PUNE NGD</td>\n",
              "      <td>7.0</td>\n",
              "      <td>9</td>\n",
              "      <td>2</td>\n",
              "      <td>2023-08-01 13:45:00</td>\n",
              "      <td>97.0</td>\n",
              "      <td>65.0</td>\n",
              "      <td>23.4</td>\n",
              "      <td>rain</td>\n",
              "      <td>97.97</td>\n",
              "      <td>8</td>\n",
              "      <td>Tuesday</td>\n",
              "      <td>Monsoon</td>\n",
              "      <td>Afternoon</td>\n",
              "      <td>4</td>\n",
              "      <td>4</td>\n",
              "      <td>13:45:00</td>\n",
              "      <td>13</td>\n",
              "      <td>45</td>\n",
              "    </tr>\n",
              "  </tbody>\n",
              "</table>\n",
              "</div>"
            ],
            "text/plain": [
              "      Depot  Bus No.  Bus Type  Shift  Act start Datetime  Total KM  \\\n",
              "0  PUNE NGD    120.0        12      1 2023-08-01 07:05:00     137.0   \n",
              "1  PUNE NGD    120.0        12      2 2023-08-01 15:25:00      59.0   \n",
              "2  PUNE NGD      3.0         9      1 2023-08-01 06:20:00     125.0   \n",
              "3  PUNE NGD      5.0         9      3 2023-08-01 07:55:00     154.0   \n",
              "4  PUNE NGD      7.0         9      2 2023-08-01 13:45:00      97.0   \n",
              "\n",
              "   START SOC  temp  icon  Total Energy Consumption (kWh)  Act_start_Month  \\\n",
              "0       99.0  23.4  rain                          226.05                8   \n",
              "1       54.0  23.4  rain                           90.86                8   \n",
              "2       98.0  23.4  rain                          136.25                8   \n",
              "3       98.0  23.4  rain                          167.86                8   \n",
              "4       65.0  23.4  rain                           97.97                8   \n",
              "\n",
              "  Act_start_Day_of_Week Act_start_Season Act_start_time_of_day  \\\n",
              "0               Tuesday          Monsoon               Morning   \n",
              "1               Tuesday          Monsoon             Afternoon   \n",
              "2               Tuesday          Monsoon               Morning   \n",
              "3               Tuesday          Monsoon               Morning   \n",
              "4               Tuesday          Monsoon             Afternoon   \n",
              "\n",
              "   Unique Route ID  Unique Driver ID Start_Time  Hour  Minute  \n",
              "0                0                 0   07:05:00     7       5  \n",
              "1                1                 1   15:25:00    15      25  \n",
              "2                2                 2   06:20:00     6      20  \n",
              "3                3                 3   07:55:00     7      55  \n",
              "4                4                 4   13:45:00    13      45  "
            ]
          },
          "execution_count": 76,
          "metadata": {},
          "output_type": "execute_result"
        }
      ],
      "source": [
        "final_data.head()"
      ]
    },
    {
      "cell_type": "code",
      "execution_count": 77,
      "id": "413eafa1",
      "metadata": {
        "id": "413eafa1"
      },
      "outputs": [],
      "source": [
        "num1 = final_data.select_dtypes(include='number')\n",
        "char = final_data.select_dtypes(include='object')"
      ]
    },
    {
      "cell_type": "code",
      "execution_count": 78,
      "id": "b209a906",
      "metadata": {
        "colab": {
          "base_uri": "https://localhost:8080/",
          "height": 206
        },
        "id": "b209a906",
        "outputId": "28b30486-8c61-4e37-8a6c-d1206c2d792b"
      },
      "outputs": [
        {
          "data": {
            "text/html": [
              "<div>\n",
              "<style scoped>\n",
              "    .dataframe tbody tr th:only-of-type {\n",
              "        vertical-align: middle;\n",
              "    }\n",
              "\n",
              "    .dataframe tbody tr th {\n",
              "        vertical-align: top;\n",
              "    }\n",
              "\n",
              "    .dataframe thead th {\n",
              "        text-align: right;\n",
              "    }\n",
              "</style>\n",
              "<table border=\"1\" class=\"dataframe\">\n",
              "  <thead>\n",
              "    <tr style=\"text-align: right;\">\n",
              "      <th></th>\n",
              "      <th>Bus No.</th>\n",
              "      <th>Bus Type</th>\n",
              "      <th>Shift</th>\n",
              "      <th>Total KM</th>\n",
              "      <th>START SOC</th>\n",
              "      <th>temp</th>\n",
              "      <th>Total Energy Consumption (kWh)</th>\n",
              "      <th>Act_start_Month</th>\n",
              "      <th>Unique Route ID</th>\n",
              "      <th>Unique Driver ID</th>\n",
              "      <th>Hour</th>\n",
              "      <th>Minute</th>\n",
              "    </tr>\n",
              "  </thead>\n",
              "  <tbody>\n",
              "    <tr>\n",
              "      <th>0</th>\n",
              "      <td>120.0</td>\n",
              "      <td>12</td>\n",
              "      <td>1</td>\n",
              "      <td>137.0</td>\n",
              "      <td>99.0</td>\n",
              "      <td>23.4</td>\n",
              "      <td>226.05</td>\n",
              "      <td>8</td>\n",
              "      <td>0</td>\n",
              "      <td>0</td>\n",
              "      <td>7</td>\n",
              "      <td>5</td>\n",
              "    </tr>\n",
              "    <tr>\n",
              "      <th>1</th>\n",
              "      <td>120.0</td>\n",
              "      <td>12</td>\n",
              "      <td>2</td>\n",
              "      <td>59.0</td>\n",
              "      <td>54.0</td>\n",
              "      <td>23.4</td>\n",
              "      <td>90.86</td>\n",
              "      <td>8</td>\n",
              "      <td>1</td>\n",
              "      <td>1</td>\n",
              "      <td>15</td>\n",
              "      <td>25</td>\n",
              "    </tr>\n",
              "    <tr>\n",
              "      <th>2</th>\n",
              "      <td>3.0</td>\n",
              "      <td>9</td>\n",
              "      <td>1</td>\n",
              "      <td>125.0</td>\n",
              "      <td>98.0</td>\n",
              "      <td>23.4</td>\n",
              "      <td>136.25</td>\n",
              "      <td>8</td>\n",
              "      <td>2</td>\n",
              "      <td>2</td>\n",
              "      <td>6</td>\n",
              "      <td>20</td>\n",
              "    </tr>\n",
              "    <tr>\n",
              "      <th>3</th>\n",
              "      <td>5.0</td>\n",
              "      <td>9</td>\n",
              "      <td>3</td>\n",
              "      <td>154.0</td>\n",
              "      <td>98.0</td>\n",
              "      <td>23.4</td>\n",
              "      <td>167.86</td>\n",
              "      <td>8</td>\n",
              "      <td>3</td>\n",
              "      <td>3</td>\n",
              "      <td>7</td>\n",
              "      <td>55</td>\n",
              "    </tr>\n",
              "    <tr>\n",
              "      <th>4</th>\n",
              "      <td>7.0</td>\n",
              "      <td>9</td>\n",
              "      <td>2</td>\n",
              "      <td>97.0</td>\n",
              "      <td>65.0</td>\n",
              "      <td>23.4</td>\n",
              "      <td>97.97</td>\n",
              "      <td>8</td>\n",
              "      <td>4</td>\n",
              "      <td>4</td>\n",
              "      <td>13</td>\n",
              "      <td>45</td>\n",
              "    </tr>\n",
              "  </tbody>\n",
              "</table>\n",
              "</div>"
            ],
            "text/plain": [
              "   Bus No.  Bus Type  Shift  Total KM  START SOC  temp  \\\n",
              "0    120.0        12      1     137.0       99.0  23.4   \n",
              "1    120.0        12      2      59.0       54.0  23.4   \n",
              "2      3.0         9      1     125.0       98.0  23.4   \n",
              "3      5.0         9      3     154.0       98.0  23.4   \n",
              "4      7.0         9      2      97.0       65.0  23.4   \n",
              "\n",
              "   Total Energy Consumption (kWh)  Act_start_Month  Unique Route ID  \\\n",
              "0                          226.05                8                0   \n",
              "1                           90.86                8                1   \n",
              "2                          136.25                8                2   \n",
              "3                          167.86                8                3   \n",
              "4                           97.97                8                4   \n",
              "\n",
              "   Unique Driver ID  Hour  Minute  \n",
              "0                 0     7       5  \n",
              "1                 1    15      25  \n",
              "2                 2     6      20  \n",
              "3                 3     7      55  \n",
              "4                 4    13      45  "
            ]
          },
          "execution_count": 78,
          "metadata": {},
          "output_type": "execute_result"
        }
      ],
      "source": [
        "num1.head()"
      ]
    },
    {
      "cell_type": "code",
      "execution_count": 79,
      "id": "312eb15c",
      "metadata": {
        "colab": {
          "base_uri": "https://localhost:8080/",
          "height": 206
        },
        "id": "312eb15c",
        "outputId": "498e4143-780e-4c1e-e4bb-1cbf2909b033"
      },
      "outputs": [
        {
          "data": {
            "text/html": [
              "<div>\n",
              "<style scoped>\n",
              "    .dataframe tbody tr th:only-of-type {\n",
              "        vertical-align: middle;\n",
              "    }\n",
              "\n",
              "    .dataframe tbody tr th {\n",
              "        vertical-align: top;\n",
              "    }\n",
              "\n",
              "    .dataframe thead th {\n",
              "        text-align: right;\n",
              "    }\n",
              "</style>\n",
              "<table border=\"1\" class=\"dataframe\">\n",
              "  <thead>\n",
              "    <tr style=\"text-align: right;\">\n",
              "      <th></th>\n",
              "      <th>Depot</th>\n",
              "      <th>icon</th>\n",
              "      <th>Act_start_Day_of_Week</th>\n",
              "      <th>Act_start_Season</th>\n",
              "      <th>Act_start_time_of_day</th>\n",
              "      <th>Start_Time</th>\n",
              "    </tr>\n",
              "  </thead>\n",
              "  <tbody>\n",
              "    <tr>\n",
              "      <th>0</th>\n",
              "      <td>PUNE NGD</td>\n",
              "      <td>rain</td>\n",
              "      <td>Tuesday</td>\n",
              "      <td>Monsoon</td>\n",
              "      <td>Morning</td>\n",
              "      <td>07:05:00</td>\n",
              "    </tr>\n",
              "    <tr>\n",
              "      <th>1</th>\n",
              "      <td>PUNE NGD</td>\n",
              "      <td>rain</td>\n",
              "      <td>Tuesday</td>\n",
              "      <td>Monsoon</td>\n",
              "      <td>Afternoon</td>\n",
              "      <td>15:25:00</td>\n",
              "    </tr>\n",
              "    <tr>\n",
              "      <th>2</th>\n",
              "      <td>PUNE NGD</td>\n",
              "      <td>rain</td>\n",
              "      <td>Tuesday</td>\n",
              "      <td>Monsoon</td>\n",
              "      <td>Morning</td>\n",
              "      <td>06:20:00</td>\n",
              "    </tr>\n",
              "    <tr>\n",
              "      <th>3</th>\n",
              "      <td>PUNE NGD</td>\n",
              "      <td>rain</td>\n",
              "      <td>Tuesday</td>\n",
              "      <td>Monsoon</td>\n",
              "      <td>Morning</td>\n",
              "      <td>07:55:00</td>\n",
              "    </tr>\n",
              "    <tr>\n",
              "      <th>4</th>\n",
              "      <td>PUNE NGD</td>\n",
              "      <td>rain</td>\n",
              "      <td>Tuesday</td>\n",
              "      <td>Monsoon</td>\n",
              "      <td>Afternoon</td>\n",
              "      <td>13:45:00</td>\n",
              "    </tr>\n",
              "  </tbody>\n",
              "</table>\n",
              "</div>"
            ],
            "text/plain": [
              "      Depot  icon Act_start_Day_of_Week Act_start_Season  \\\n",
              "0  PUNE NGD  rain               Tuesday          Monsoon   \n",
              "1  PUNE NGD  rain               Tuesday          Monsoon   \n",
              "2  PUNE NGD  rain               Tuesday          Monsoon   \n",
              "3  PUNE NGD  rain               Tuesday          Monsoon   \n",
              "4  PUNE NGD  rain               Tuesday          Monsoon   \n",
              "\n",
              "  Act_start_time_of_day Start_Time  \n",
              "0               Morning   07:05:00  \n",
              "1             Afternoon   15:25:00  \n",
              "2               Morning   06:20:00  \n",
              "3               Morning   07:55:00  \n",
              "4             Afternoon   13:45:00  "
            ]
          },
          "execution_count": 79,
          "metadata": {},
          "output_type": "execute_result"
        }
      ],
      "source": [
        "char.head()"
      ]
    },
    {
      "cell_type": "code",
      "execution_count": 80,
      "id": "be88c11f",
      "metadata": {
        "colab": {
          "base_uri": "https://localhost:8080/",
          "height": 912
        },
        "id": "be88c11f",
        "outputId": "be964196-9765-4ca2-efa7-8a78185893cb",
        "scrolled": true
      },
      "outputs": [
        {
          "data": {
            "image/png": "[encoded data removed]",
            "text/plain": [
              "<Figure size 1000x800 with 2 Axes>"
            ]
          },
          "metadata": {},
          "output_type": "display_data"
        }
      ],
      "source": [
        "#df_encoded = pd.get_dummies(num1.drop(columns='Duration'), drop_first=True)\n",
        "\n",
        "# Compute the correlation matrix\n",
        "correlation_matrix = num1.corr()\n",
        "\n",
        "# Set the figure size for the heatmap\n",
        "plt.figure(figsize=(10, 8))\n",
        "\n",
        "# Create a heatmap to visualize the correlation matrix\n",
        "sns.heatmap(correlation_matrix, annot=True, cmap='coolwarm', linewidths=0.5)\n",
        "\n",
        "# Display the heatmap\n",
        "plt.title('Correlation Matrix Heatmap')\n",
        "plt.show()"
      ]
    },
    {
      "cell_type": "code",
      "execution_count": 81,
      "id": "e2315d02",
      "metadata": {
        "colab": {
          "base_uri": "https://localhost:8080/"
        },
        "id": "e2315d02",
        "outputId": "86877783-a812-49ee-c43c-d6e61eac435a"
      },
      "outputs": [
        {
          "data": {
            "text/plain": [
              "Index(['Depot', 'icon', 'Act_start_Day_of_Week', 'Act_start_Season',\n",
              "       'Act_start_time_of_day', 'Start_Time'],\n",
              "      dtype='object')"
            ]
          },
          "execution_count": 81,
          "metadata": {},
          "output_type": "execute_result"
        }
      ],
      "source": [
        "char.columns"
      ]
    },
    {
      "cell_type": "markdown",
      "id": "88fc9fda",
      "metadata": {
        "id": "88fc9fda"
      },
      "source": [
        "# Encoding Techiques"
      ]
    },
    {
      "cell_type": "code",
      "execution_count": 82,
      "id": "a6bdc845",
      "metadata": {
        "colab": {
          "base_uri": "https://localhost:8080/",
          "height": 206
        },
        "id": "a6bdc845",
        "outputId": "93b22261-a319-4964-9b57-6105d6a5d448"
      },
      "outputs": [
        {
          "data": {
            "text/html": [
              "<div>\n",
              "<style scoped>\n",
              "    .dataframe tbody tr th:only-of-type {\n",
              "        vertical-align: middle;\n",
              "    }\n",
              "\n",
              "    .dataframe tbody tr th {\n",
              "        vertical-align: top;\n",
              "    }\n",
              "\n",
              "    .dataframe thead th {\n",
              "        text-align: right;\n",
              "    }\n",
              "</style>\n",
              "<table border=\"1\" class=\"dataframe\">\n",
              "  <thead>\n",
              "    <tr style=\"text-align: right;\">\n",
              "      <th></th>\n",
              "      <th>Depot</th>\n",
              "      <th>icon</th>\n",
              "      <th>Act_start_Day_of_Week</th>\n",
              "      <th>Act_start_Season</th>\n",
              "      <th>Act_start_time_of_day</th>\n",
              "      <th>Start_Time</th>\n",
              "    </tr>\n",
              "  </thead>\n",
              "  <tbody>\n",
              "    <tr>\n",
              "      <th>0</th>\n",
              "      <td>PUNE NGD</td>\n",
              "      <td>rain</td>\n",
              "      <td>Tuesday</td>\n",
              "      <td>Monsoon</td>\n",
              "      <td>Morning</td>\n",
              "      <td>07:05:00</td>\n",
              "    </tr>\n",
              "    <tr>\n",
              "      <th>1</th>\n",
              "      <td>PUNE NGD</td>\n",
              "      <td>rain</td>\n",
              "      <td>Tuesday</td>\n",
              "      <td>Monsoon</td>\n",
              "      <td>Afternoon</td>\n",
              "      <td>15:25:00</td>\n",
              "    </tr>\n",
              "    <tr>\n",
              "      <th>2</th>\n",
              "      <td>PUNE NGD</td>\n",
              "      <td>rain</td>\n",
              "      <td>Tuesday</td>\n",
              "      <td>Monsoon</td>\n",
              "      <td>Morning</td>\n",
              "      <td>06:20:00</td>\n",
              "    </tr>\n",
              "    <tr>\n",
              "      <th>3</th>\n",
              "      <td>PUNE NGD</td>\n",
              "      <td>rain</td>\n",
              "      <td>Tuesday</td>\n",
              "      <td>Monsoon</td>\n",
              "      <td>Morning</td>\n",
              "      <td>07:55:00</td>\n",
              "    </tr>\n",
              "    <tr>\n",
              "      <th>4</th>\n",
              "      <td>PUNE NGD</td>\n",
              "      <td>rain</td>\n",
              "      <td>Tuesday</td>\n",
              "      <td>Monsoon</td>\n",
              "      <td>Afternoon</td>\n",
              "      <td>13:45:00</td>\n",
              "    </tr>\n",
              "  </tbody>\n",
              "</table>\n",
              "</div>"
            ],
            "text/plain": [
              "      Depot  icon Act_start_Day_of_Week Act_start_Season  \\\n",
              "0  PUNE NGD  rain               Tuesday          Monsoon   \n",
              "1  PUNE NGD  rain               Tuesday          Monsoon   \n",
              "2  PUNE NGD  rain               Tuesday          Monsoon   \n",
              "3  PUNE NGD  rain               Tuesday          Monsoon   \n",
              "4  PUNE NGD  rain               Tuesday          Monsoon   \n",
              "\n",
              "  Act_start_time_of_day Start_Time  \n",
              "0               Morning   07:05:00  \n",
              "1             Afternoon   15:25:00  \n",
              "2               Morning   06:20:00  \n",
              "3               Morning   07:55:00  \n",
              "4             Afternoon   13:45:00  "
            ]
          },
          "execution_count": 82,
          "metadata": {},
          "output_type": "execute_result"
        }
      ],
      "source": [
        "char.head()"
      ]
    },
    {
      "cell_type": "code",
      "execution_count": 83,
      "id": "XAaj6Ipclxpp",
      "metadata": {
        "id": "XAaj6Ipclxpp"
      },
      "outputs": [],
      "source": [
        "char.drop(['Start_Time'],axis = 1,inplace = True)"
      ]
    },
    {
      "cell_type": "code",
      "execution_count": 84,
      "id": "8e80ce65",
      "metadata": {
        "id": "8e80ce65"
      },
      "outputs": [],
      "source": [
        "from sklearn.preprocessing import LabelEncoder\n",
        "\n",
        "label_cols = ['Depot','Act_start_Season','Act_start_Day_of_Week','Act_start_time_of_day','icon']\n",
        "\n",
        "le = LabelEncoder()\n",
        "\n",
        "for col in label_cols:\n",
        "    char[col] = le.fit_transform(char[col])\n",
        "\n"
      ]
    },
    {
      "cell_type": "code",
      "execution_count": null,
      "id": "Y5WB3zoFlwCz",
      "metadata": {
        "id": "Y5WB3zoFlwCz"
      },
      "outputs": [],
      "source": []
    },
    {
      "cell_type": "code",
      "execution_count": 85,
      "id": "746bad6a",
      "metadata": {
        "colab": {
          "base_uri": "https://localhost:8080/",
          "height": 206
        },
        "collapsed": true,
        "id": "746bad6a",
        "outputId": "95998fb6-da29-486e-8611-6d26d21c4cea"
      },
      "outputs": [
        {
          "data": {
            "text/html": [
              "<div>\n",
              "<style scoped>\n",
              "    .dataframe tbody tr th:only-of-type {\n",
              "        vertical-align: middle;\n",
              "    }\n",
              "\n",
              "    .dataframe tbody tr th {\n",
              "        vertical-align: top;\n",
              "    }\n",
              "\n",
              "    .dataframe thead th {\n",
              "        text-align: right;\n",
              "    }\n",
              "</style>\n",
              "<table border=\"1\" class=\"dataframe\">\n",
              "  <thead>\n",
              "    <tr style=\"text-align: right;\">\n",
              "      <th></th>\n",
              "      <th>Depot</th>\n",
              "      <th>icon</th>\n",
              "      <th>Act_start_Day_of_Week</th>\n",
              "      <th>Act_start_Season</th>\n",
              "      <th>Act_start_time_of_day</th>\n",
              "    </tr>\n",
              "  </thead>\n",
              "  <tbody>\n",
              "    <tr>\n",
              "      <th>0</th>\n",
              "      <td>3</td>\n",
              "      <td>3</td>\n",
              "      <td>5</td>\n",
              "      <td>0</td>\n",
              "      <td>3</td>\n",
              "    </tr>\n",
              "    <tr>\n",
              "      <th>1</th>\n",
              "      <td>3</td>\n",
              "      <td>3</td>\n",
              "      <td>5</td>\n",
              "      <td>0</td>\n",
              "      <td>0</td>\n",
              "    </tr>\n",
              "    <tr>\n",
              "      <th>2</th>\n",
              "      <td>3</td>\n",
              "      <td>3</td>\n",
              "      <td>5</td>\n",
              "      <td>0</td>\n",
              "      <td>3</td>\n",
              "    </tr>\n",
              "    <tr>\n",
              "      <th>3</th>\n",
              "      <td>3</td>\n",
              "      <td>3</td>\n",
              "      <td>5</td>\n",
              "      <td>0</td>\n",
              "      <td>3</td>\n",
              "    </tr>\n",
              "    <tr>\n",
              "      <th>4</th>\n",
              "      <td>3</td>\n",
              "      <td>3</td>\n",
              "      <td>5</td>\n",
              "      <td>0</td>\n",
              "      <td>0</td>\n",
              "    </tr>\n",
              "  </tbody>\n",
              "</table>\n",
              "</div>"
            ],
            "text/plain": [
              "   Depot  icon  Act_start_Day_of_Week  Act_start_Season  Act_start_time_of_day\n",
              "0      3     3                      5                 0                      3\n",
              "1      3     3                      5                 0                      0\n",
              "2      3     3                      5                 0                      3\n",
              "3      3     3                      5                 0                      3\n",
              "4      3     3                      5                 0                      0"
            ]
          },
          "execution_count": 85,
          "metadata": {},
          "output_type": "execute_result"
        }
      ],
      "source": [
        "char.head(5)"
      ]
    },
    {
      "cell_type": "code",
      "execution_count": 86,
      "id": "7eaad29a",
      "metadata": {
        "id": "7eaad29a"
      },
      "outputs": [],
      "source": [
        "x = pd.concat([num1,char],axis=1,join='inner')"
      ]
    },
    {
      "cell_type": "code",
      "execution_count": 87,
      "id": "857385b6",
      "metadata": {
        "colab": {
          "base_uri": "https://localhost:8080/",
          "height": 258
        },
        "id": "857385b6",
        "outputId": "49e321fb-8d08-4435-9da7-5ad8ed6f4f4e"
      },
      "outputs": [
        {
          "data": {
            "text/html": [
              "<div>\n",
              "<style scoped>\n",
              "    .dataframe tbody tr th:only-of-type {\n",
              "        vertical-align: middle;\n",
              "    }\n",
              "\n",
              "    .dataframe tbody tr th {\n",
              "        vertical-align: top;\n",
              "    }\n",
              "\n",
              "    .dataframe thead th {\n",
              "        text-align: right;\n",
              "    }\n",
              "</style>\n",
              "<table border=\"1\" class=\"dataframe\">\n",
              "  <thead>\n",
              "    <tr style=\"text-align: right;\">\n",
              "      <th></th>\n",
              "      <th>Bus No.</th>\n",
              "      <th>Bus Type</th>\n",
              "      <th>Shift</th>\n",
              "      <th>Total KM</th>\n",
              "      <th>START SOC</th>\n",
              "      <th>temp</th>\n",
              "      <th>Total Energy Consumption (kWh)</th>\n",
              "      <th>Act_start_Month</th>\n",
              "      <th>Unique Route ID</th>\n",
              "      <th>Unique Driver ID</th>\n",
              "      <th>Hour</th>\n",
              "      <th>Minute</th>\n",
              "      <th>Depot</th>\n",
              "      <th>icon</th>\n",
              "      <th>Act_start_Day_of_Week</th>\n",
              "      <th>Act_start_Season</th>\n",
              "      <th>Act_start_time_of_day</th>\n",
              "    </tr>\n",
              "  </thead>\n",
              "  <tbody>\n",
              "    <tr>\n",
              "      <th>0</th>\n",
              "      <td>120.0</td>\n",
              "      <td>12</td>\n",
              "      <td>1</td>\n",
              "      <td>137.0</td>\n",
              "      <td>99.0</td>\n",
              "      <td>23.4</td>\n",
              "      <td>226.05</td>\n",
              "      <td>8</td>\n",
              "      <td>0</td>\n",
              "      <td>0</td>\n",
              "      <td>7</td>\n",
              "      <td>5</td>\n",
              "      <td>3</td>\n",
              "      <td>3</td>\n",
              "      <td>5</td>\n",
              "      <td>0</td>\n",
              "      <td>3</td>\n",
              "    </tr>\n",
              "    <tr>\n",
              "      <th>1</th>\n",
              "      <td>120.0</td>\n",
              "      <td>12</td>\n",
              "      <td>2</td>\n",
              "      <td>59.0</td>\n",
              "      <td>54.0</td>\n",
              "      <td>23.4</td>\n",
              "      <td>90.86</td>\n",
              "      <td>8</td>\n",
              "      <td>1</td>\n",
              "      <td>1</td>\n",
              "      <td>15</td>\n",
              "      <td>25</td>\n",
              "      <td>3</td>\n",
              "      <td>3</td>\n",
              "      <td>5</td>\n",
              "      <td>0</td>\n",
              "      <td>0</td>\n",
              "    </tr>\n",
              "    <tr>\n",
              "      <th>2</th>\n",
              "      <td>3.0</td>\n",
              "      <td>9</td>\n",
              "      <td>1</td>\n",
              "      <td>125.0</td>\n",
              "      <td>98.0</td>\n",
              "      <td>23.4</td>\n",
              "      <td>136.25</td>\n",
              "      <td>8</td>\n",
              "      <td>2</td>\n",
              "      <td>2</td>\n",
              "      <td>6</td>\n",
              "      <td>20</td>\n",
              "      <td>3</td>\n",
              "      <td>3</td>\n",
              "      <td>5</td>\n",
              "      <td>0</td>\n",
              "      <td>3</td>\n",
              "    </tr>\n",
              "    <tr>\n",
              "      <th>3</th>\n",
              "      <td>5.0</td>\n",
              "      <td>9</td>\n",
              "      <td>3</td>\n",
              "      <td>154.0</td>\n",
              "      <td>98.0</td>\n",
              "      <td>23.4</td>\n",
              "      <td>167.86</td>\n",
              "      <td>8</td>\n",
              "      <td>3</td>\n",
              "      <td>3</td>\n",
              "      <td>7</td>\n",
              "      <td>55</td>\n",
              "      <td>3</td>\n",
              "      <td>3</td>\n",
              "      <td>5</td>\n",
              "      <td>0</td>\n",
              "      <td>3</td>\n",
              "    </tr>\n",
              "    <tr>\n",
              "      <th>4</th>\n",
              "      <td>7.0</td>\n",
              "      <td>9</td>\n",
              "      <td>2</td>\n",
              "      <td>97.0</td>\n",
              "      <td>65.0</td>\n",
              "      <td>23.4</td>\n",
              "      <td>97.97</td>\n",
              "      <td>8</td>\n",
              "      <td>4</td>\n",
              "      <td>4</td>\n",
              "      <td>13</td>\n",
              "      <td>45</td>\n",
              "      <td>3</td>\n",
              "      <td>3</td>\n",
              "      <td>5</td>\n",
              "      <td>0</td>\n",
              "      <td>0</td>\n",
              "    </tr>\n",
              "  </tbody>\n",
              "</table>\n",
              "</div>"
            ],
            "text/plain": [
              "   Bus No.  Bus Type  Shift  Total KM  START SOC  temp  \\\n",
              "0    120.0        12      1     137.0       99.0  23.4   \n",
              "1    120.0        12      2      59.0       54.0  23.4   \n",
              "2      3.0         9      1     125.0       98.0  23.4   \n",
              "3      5.0         9      3     154.0       98.0  23.4   \n",
              "4      7.0         9      2      97.0       65.0  23.4   \n",
              "\n",
              "   Total Energy Consumption (kWh)  Act_start_Month  Unique Route ID  \\\n",
              "0                          226.05                8                0   \n",
              "1                           90.86                8                1   \n",
              "2                          136.25                8                2   \n",
              "3                          167.86                8                3   \n",
              "4                           97.97                8                4   \n",
              "\n",
              "   Unique Driver ID  Hour  Minute  Depot  icon  Act_start_Day_of_Week  \\\n",
              "0                 0     7       5      3     3                      5   \n",
              "1                 1    15      25      3     3                      5   \n",
              "2                 2     6      20      3     3                      5   \n",
              "3                 3     7      55      3     3                      5   \n",
              "4                 4    13      45      3     3                      5   \n",
              "\n",
              "   Act_start_Season  Act_start_time_of_day  \n",
              "0                 0                      3  \n",
              "1                 0                      0  \n",
              "2                 0                      3  \n",
              "3                 0                      3  \n",
              "4                 0                      0  "
            ]
          },
          "execution_count": 87,
          "metadata": {},
          "output_type": "execute_result"
        }
      ],
      "source": [
        "x.head()"
      ]
    },
    {
      "cell_type": "code",
      "execution_count": 88,
      "id": "582bccf8",
      "metadata": {
        "colab": {
          "base_uri": "https://localhost:8080/",
          "height": 355
        },
        "id": "582bccf8",
        "outputId": "dd25d49c-da80-4116-e42c-a3b85733cd03"
      },
      "outputs": [
        {
          "data": {
            "text/html": [
              "<div>\n",
              "<style scoped>\n",
              "    .dataframe tbody tr th:only-of-type {\n",
              "        vertical-align: middle;\n",
              "    }\n",
              "\n",
              "    .dataframe tbody tr th {\n",
              "        vertical-align: top;\n",
              "    }\n",
              "\n",
              "    .dataframe thead th {\n",
              "        text-align: right;\n",
              "    }\n",
              "</style>\n",
              "<table border=\"1\" class=\"dataframe\">\n",
              "  <thead>\n",
              "    <tr style=\"text-align: right;\">\n",
              "      <th></th>\n",
              "      <th>Bus No.</th>\n",
              "      <th>Bus Type</th>\n",
              "      <th>Shift</th>\n",
              "      <th>Total KM</th>\n",
              "      <th>START SOC</th>\n",
              "      <th>temp</th>\n",
              "      <th>Total Energy Consumption (kWh)</th>\n",
              "      <th>Act_start_Month</th>\n",
              "      <th>Unique Route ID</th>\n",
              "      <th>Unique Driver ID</th>\n",
              "      <th>Hour</th>\n",
              "      <th>Minute</th>\n",
              "      <th>Depot</th>\n",
              "      <th>icon</th>\n",
              "      <th>Act_start_Day_of_Week</th>\n",
              "      <th>Act_start_Season</th>\n",
              "      <th>Act_start_time_of_day</th>\n",
              "    </tr>\n",
              "  </thead>\n",
              "  <tbody>\n",
              "    <tr>\n",
              "      <th>count</th>\n",
              "      <td>115726.000000</td>\n",
              "      <td>115727.000000</td>\n",
              "      <td>115727.000000</td>\n",
              "      <td>115727.000000</td>\n",
              "      <td>115727.000000</td>\n",
              "      <td>115727.000000</td>\n",
              "      <td>115727.000000</td>\n",
              "      <td>115727.000000</td>\n",
              "      <td>115727.000000</td>\n",
              "      <td>115727.000000</td>\n",
              "      <td>115727.000000</td>\n",
              "      <td>115727.000000</td>\n",
              "      <td>115727.000000</td>\n",
              "      <td>115727.000000</td>\n",
              "      <td>115727.000000</td>\n",
              "      <td>115727.000000</td>\n",
              "      <td>115727.000000</td>\n",
              "    </tr>\n",
              "    <tr>\n",
              "      <th>mean</th>\n",
              "      <td>230.347467</td>\n",
              "      <td>11.841688</td>\n",
              "      <td>1.626155</td>\n",
              "      <td>117.613273</td>\n",
              "      <td>90.044202</td>\n",
              "      <td>23.382575</td>\n",
              "      <td>174.661001</td>\n",
              "      <td>8.279961</td>\n",
              "      <td>204.634718</td>\n",
              "      <td>598.547565</td>\n",
              "      <td>9.442066</td>\n",
              "      <td>25.282095</td>\n",
              "      <td>2.611059</td>\n",
              "      <td>2.165182</td>\n",
              "      <td>3.005772</td>\n",
              "      <td>0.663985</td>\n",
              "      <td>1.994902</td>\n",
              "    </tr>\n",
              "    <tr>\n",
              "      <th>std</th>\n",
              "      <td>131.849697</td>\n",
              "      <td>0.670729</td>\n",
              "      <td>0.688061</td>\n",
              "      <td>35.179617</td>\n",
              "      <td>14.659396</td>\n",
              "      <td>1.468460</td>\n",
              "      <td>51.918643</td>\n",
              "      <td>3.749603</td>\n",
              "      <td>145.758761</td>\n",
              "      <td>429.575727</td>\n",
              "      <td>4.208261</td>\n",
              "      <td>17.032278</td>\n",
              "      <td>1.763893</td>\n",
              "      <td>1.003753</td>\n",
              "      <td>2.005506</td>\n",
              "      <td>0.472346</td>\n",
              "      <td>1.357183</td>\n",
              "    </tr>\n",
              "    <tr>\n",
              "      <th>min</th>\n",
              "      <td>1.000000</td>\n",
              "      <td>9.000000</td>\n",
              "      <td>1.000000</td>\n",
              "      <td>2.000000</td>\n",
              "      <td>25.000000</td>\n",
              "      <td>19.200000</td>\n",
              "      <td>4.000000</td>\n",
              "      <td>1.000000</td>\n",
              "      <td>0.000000</td>\n",
              "      <td>0.000000</td>\n",
              "      <td>0.000000</td>\n",
              "      <td>0.000000</td>\n",
              "      <td>0.000000</td>\n",
              "      <td>0.000000</td>\n",
              "      <td>0.000000</td>\n",
              "      <td>0.000000</td>\n",
              "      <td>0.000000</td>\n",
              "    </tr>\n",
              "    <tr>\n",
              "      <th>25%</th>\n",
              "      <td>118.000000</td>\n",
              "      <td>12.000000</td>\n",
              "      <td>1.000000</td>\n",
              "      <td>97.000000</td>\n",
              "      <td>85.000000</td>\n",
              "      <td>22.500000</td>\n",
              "      <td>140.940000</td>\n",
              "      <td>8.000000</td>\n",
              "      <td>69.000000</td>\n",
              "      <td>244.000000</td>\n",
              "      <td>6.000000</td>\n",
              "      <td>10.000000</td>\n",
              "      <td>1.000000</td>\n",
              "      <td>2.000000</td>\n",
              "      <td>1.000000</td>\n",
              "      <td>0.000000</td>\n",
              "      <td>0.000000</td>\n",
              "    </tr>\n",
              "    <tr>\n",
              "      <th>50%</th>\n",
              "      <td>230.000000</td>\n",
              "      <td>12.000000</td>\n",
              "      <td>2.000000</td>\n",
              "      <td>120.000000</td>\n",
              "      <td>98.000000</td>\n",
              "      <td>23.600000</td>\n",
              "      <td>176.120000</td>\n",
              "      <td>9.000000</td>\n",
              "      <td>202.000000</td>\n",
              "      <td>535.000000</td>\n",
              "      <td>7.000000</td>\n",
              "      <td>25.000000</td>\n",
              "      <td>3.000000</td>\n",
              "      <td>2.000000</td>\n",
              "      <td>3.000000</td>\n",
              "      <td>1.000000</td>\n",
              "      <td>3.000000</td>\n",
              "    </tr>\n",
              "    <tr>\n",
              "      <th>75%</th>\n",
              "      <td>342.000000</td>\n",
              "      <td>12.000000</td>\n",
              "      <td>2.000000</td>\n",
              "      <td>137.000000</td>\n",
              "      <td>99.000000</td>\n",
              "      <td>24.200000</td>\n",
              "      <td>210.000000</td>\n",
              "      <td>11.000000</td>\n",
              "      <td>311.000000</td>\n",
              "      <td>849.000000</td>\n",
              "      <td>14.000000</td>\n",
              "      <td>40.000000</td>\n",
              "      <td>4.000000</td>\n",
              "      <td>3.000000</td>\n",
              "      <td>5.000000</td>\n",
              "      <td>1.000000</td>\n",
              "      <td>3.000000</td>\n",
              "    </tr>\n",
              "    <tr>\n",
              "      <th>max</th>\n",
              "      <td>2300.000000</td>\n",
              "      <td>12.000000</td>\n",
              "      <td>3.000000</td>\n",
              "      <td>282.000000</td>\n",
              "      <td>100.000000</td>\n",
              "      <td>26.600000</td>\n",
              "      <td>495.930000</td>\n",
              "      <td>12.000000</td>\n",
              "      <td>588.000000</td>\n",
              "      <td>1842.000000</td>\n",
              "      <td>21.000000</td>\n",
              "      <td>55.000000</td>\n",
              "      <td>5.000000</td>\n",
              "      <td>3.000000</td>\n",
              "      <td>6.000000</td>\n",
              "      <td>1.000000</td>\n",
              "      <td>3.000000</td>\n",
              "    </tr>\n",
              "  </tbody>\n",
              "</table>\n",
              "</div>"
            ],
            "text/plain": [
              "             Bus No.       Bus Type          Shift       Total KM  \\\n",
              "count  115726.000000  115727.000000  115727.000000  115727.000000   \n",
              "mean      230.347467      11.841688       1.626155     117.613273   \n",
              "std       131.849697       0.670729       0.688061      35.179617   \n",
              "min         1.000000       9.000000       1.000000       2.000000   \n",
              "25%       118.000000      12.000000       1.000000      97.000000   \n",
              "50%       230.000000      12.000000       2.000000     120.000000   \n",
              "75%       342.000000      12.000000       2.000000     137.000000   \n",
              "max      2300.000000      12.000000       3.000000     282.000000   \n",
              "\n",
              "           START SOC           temp  Total Energy Consumption (kWh)  \\\n",
              "count  115727.000000  115727.000000                   115727.000000   \n",
              "mean       90.044202      23.382575                      174.661001   \n",
              "std        14.659396       1.468460                       51.918643   \n",
              "min        25.000000      19.200000                        4.000000   \n",
              "25%        85.000000      22.500000                      140.940000   \n",
              "50%        98.000000      23.600000                      176.120000   \n",
              "75%        99.000000      24.200000                      210.000000   \n",
              "max       100.000000      26.600000                      495.930000   \n",
              "\n",
              "       Act_start_Month  Unique Route ID  Unique Driver ID           Hour  \\\n",
              "count    115727.000000    115727.000000     115727.000000  115727.000000   \n",
              "mean          8.279961       204.634718        598.547565       9.442066   \n",
              "std           3.749603       145.758761        429.575727       4.208261   \n",
              "min           1.000000         0.000000          0.000000       0.000000   \n",
              "25%           8.000000        69.000000        244.000000       6.000000   \n",
              "50%           9.000000       202.000000        535.000000       7.000000   \n",
              "75%          11.000000       311.000000        849.000000      14.000000   \n",
              "max          12.000000       588.000000       1842.000000      21.000000   \n",
              "\n",
              "              Minute          Depot           icon  Act_start_Day_of_Week  \\\n",
              "count  115727.000000  115727.000000  115727.000000          115727.000000   \n",
              "mean       25.282095       2.611059       2.165182               3.005772   \n",
              "std        17.032278       1.763893       1.003753               2.005506   \n",
              "min         0.000000       0.000000       0.000000               0.000000   \n",
              "25%        10.000000       1.000000       2.000000               1.000000   \n",
              "50%        25.000000       3.000000       2.000000               3.000000   \n",
              "75%        40.000000       4.000000       3.000000               5.000000   \n",
              "max        55.000000       5.000000       3.000000               6.000000   \n",
              "\n",
              "       Act_start_Season  Act_start_time_of_day  \n",
              "count     115727.000000          115727.000000  \n",
              "mean           0.663985               1.994902  \n",
              "std            0.472346               1.357183  \n",
              "min            0.000000               0.000000  \n",
              "25%            0.000000               0.000000  \n",
              "50%            1.000000               3.000000  \n",
              "75%            1.000000               3.000000  \n",
              "max            1.000000               3.000000  "
            ]
          },
          "execution_count": 88,
          "metadata": {},
          "output_type": "execute_result"
        }
      ],
      "source": [
        "x.describe()"
      ]
    },
    {
      "cell_type": "code",
      "execution_count": 89,
      "id": "773a928f",
      "metadata": {
        "id": "773a928f"
      },
      "outputs": [],
      "source": [
        "# Example conversion of timedelta columns to total seconds\n",
        "#timedelta_columns = x.select_dtypes(include=['timedelta64[ns]']).columns"
      ]
    },
    {
      "cell_type": "code",
      "execution_count": 90,
      "id": "23254e8f",
      "metadata": {
        "id": "23254e8f"
      },
      "outputs": [],
      "source": [
        "#for col in timedelta_columns:\n",
        "   # x[col] = x[col].dt.total_seconds()\n"
      ]
    },
    {
      "cell_type": "code",
      "execution_count": 91,
      "id": "f05476f6",
      "metadata": {
        "colab": {
          "base_uri": "https://localhost:8080/"
        },
        "id": "f05476f6",
        "outputId": "f72c58e2-296a-4cde-875f-d0266cd02008"
      },
      "outputs": [
        {
          "data": {
            "text/plain": [
              "Bus No.                           1\n",
              "Bus Type                          0\n",
              "Shift                             0\n",
              "Total KM                          0\n",
              "START SOC                         0\n",
              "temp                              0\n",
              "Total Energy Consumption (kWh)    0\n",
              "Act_start_Month                   0\n",
              "Unique Route ID                   0\n",
              "Unique Driver ID                  0\n",
              "Hour                              0\n",
              "Minute                            0\n",
              "Depot                             0\n",
              "icon                              0\n",
              "Act_start_Day_of_Week             0\n",
              "Act_start_Season                  0\n",
              "Act_start_time_of_day             0\n",
              "dtype: int64"
            ]
          },
          "execution_count": 91,
          "metadata": {},
          "output_type": "execute_result"
        }
      ],
      "source": [
        "x.isna().sum()"
      ]
    },
    {
      "cell_type": "code",
      "execution_count": 92,
      "id": "275ff8d7",
      "metadata": {
        "id": "275ff8d7"
      },
      "outputs": [],
      "source": [
        "x['Bus No.'] = x['Bus No.'].fillna(x['Bus No.'].mean())"
      ]
    },
    {
      "cell_type": "code",
      "execution_count": 93,
      "id": "70b7a985",
      "metadata": {
        "colab": {
          "base_uri": "https://localhost:8080/"
        },
        "id": "70b7a985",
        "outputId": "75a49b62-829f-4b9d-b852-857b0eec28de"
      },
      "outputs": [
        {
          "name": "stdout",
          "output_type": "stream",
          "text": [
            "<class 'pandas.core.frame.DataFrame'>\n",
            "Index: 115727 entries, 0 to 129513\n",
            "Data columns (total 17 columns):\n",
            " #   Column                          Non-Null Count   Dtype  \n",
            "---  ------                          --------------   -----  \n",
            " 0   Bus No.                         115727 non-null  float64\n",
            " 1   Bus Type                        115727 non-null  int64  \n",
            " 2   Shift                           115727 non-null  int64  \n",
            " 3   Total KM                        115727 non-null  float64\n",
            " 4   START SOC                       115727 non-null  float64\n",
            " 5   temp                            115727 non-null  float64\n",
            " 6   Total Energy Consumption (kWh)  115727 non-null  float64\n",
            " 7   Act_start_Month                 115727 non-null  int32  \n",
            " 8   Unique Route ID                 115727 non-null  int64  \n",
            " 9   Unique Driver ID                115727 non-null  int64  \n",
            " 10  Hour                            115727 non-null  int32  \n",
            " 11  Minute                          115727 non-null  int32  \n",
            " 12  Depot                           115727 non-null  int32  \n",
            " 13  icon                            115727 non-null  int32  \n",
            " 14  Act_start_Day_of_Week           115727 non-null  int32  \n",
            " 15  Act_start_Season                115727 non-null  int32  \n",
            " 16  Act_start_time_of_day           115727 non-null  int32  \n",
            "dtypes: float64(5), int32(8), int64(4)\n",
            "memory usage: 16.4 MB\n"
          ]
        }
      ],
      "source": [
        "x.info()"
      ]
    },
    {
      "cell_type": "markdown",
      "id": "1a4f211c",
      "metadata": {
        "id": "1a4f211c"
      },
      "source": [
        "x= x.drop('Total Energy Consumption (kWh)',axis = 1)\n",
        "y = x['Total Energy Consumption (kWh)']"
      ]
    },
    {
      "cell_type": "code",
      "execution_count": 94,
      "id": "546b5523",
      "metadata": {
        "id": "546b5523"
      },
      "outputs": [],
      "source": [
        "y = x.pop('Total Energy Consumption (kWh)')"
      ]
    },
    {
      "cell_type": "code",
      "execution_count": 95,
      "id": "e8a8b37b",
      "metadata": {
        "id": "e8a8b37b"
      },
      "outputs": [],
      "source": [
        "from sklearn.model_selection import train_test_split\n",
        "x_train,x_test,y_train,y_test=train_test_split(x,y,test_size=0.25,random_state=401)"
      ]
    },
    {
      "cell_type": "markdown",
      "id": "55afb4e3",
      "metadata": {
        "id": "55afb4e3"
      },
      "source": [
        "# Model Validation"
      ]
    },
    {
      "cell_type": "code",
      "execution_count": 96,
      "id": "f9762cf4",
      "metadata": {
        "colab": {
          "base_uri": "https://localhost:8080/"
        },
        "id": "f9762cf4",
        "outputId": "bbe86411-55ed-45a2-8673-a9ed819d7891"
      },
      "outputs": [
        {
          "name": "stdout",
          "output_type": "stream",
          "text": [
            "Value of r2 is 0.5810991187003245\n",
            "Value of rmse is 33.76396010302768\n"
          ]
        }
      ],
      "source": [
        "from sklearn.tree import DecisionTreeRegressor\n",
        "from sklearn.metrics import r2_score, mean_squared_error\n",
        "from math import sqrt\n",
        "\n",
        "# Initialize and fit the model\n",
        "dt = DecisionTreeRegressor(max_depth=5, random_state=401, min_samples_split=12)\n",
        "dt.fit(x_train, y_train)\n",
        "y_pred_dt = dt.predict(x_test)\n",
        "\n",
        "# Evaluate the model\n",
        "r2_dt = r2_score(y_test, y_pred_dt)\n",
        "rmse = sqrt(mean_squared_error(y_test, y_pred_dt))\n",
        "\n",
        "print('Value of r2 is', r2_dt)\n",
        "print('Value of rmse is', rmse)"
      ]
    },
    {
      "cell_type": "code",
      "execution_count": null,
      "id": "-lPAPbmX600o",
      "metadata": {
        "id": "-lPAPbmX600o"
      },
      "outputs": [],
      "source": []
    },
    {
      "cell_type": "code",
      "execution_count": 97,
      "id": "c7e523f2",
      "metadata": {
        "colab": {
          "base_uri": "https://localhost:8080/"
        },
        "id": "c7e523f2",
        "outputId": "66abd59f-ab92-4264-bbfb-7c8e169ab2ad"
      },
      "outputs": [
        {
          "name": "stdout",
          "output_type": "stream",
          "text": [
            "Best parameters found: {'max_depth': 10, 'min_samples_leaf': 10, 'min_samples_split': 2}\n",
            "Best CV R2 score: 0.6913309722625074\n"
          ]
        }
      ],
      "source": [
        "from sklearn.model_selection import GridSearchCV\n",
        "\n",
        "param_grid = {\n",
        "    'max_depth': [3, 5, 7, 10],\n",
        "    'min_samples_split': [2, 10, 20],\n",
        "    'min_samples_leaf': [1, 5, 10]\n",
        "}\n",
        "\n",
        "grid_search = GridSearchCV(DecisionTreeRegressor(random_state=401), param_grid, cv=5, scoring='r2')\n",
        "grid_search.fit(x_train, y_train)\n",
        "\n",
        "print('Best parameters found:', grid_search.best_params_)\n",
        "print('Best CV R2 score:', grid_search.best_score_)\n"
      ]
    },
    {
      "cell_type": "code",
      "execution_count": 98,
      "id": "783921e0",
      "metadata": {
        "colab": {
          "base_uri": "https://localhost:8080/"
        },
        "id": "783921e0",
        "outputId": "e1be6bcb-b6e1-4364-9e6f-9c0de3e2388a"
      },
      "outputs": [
        {
          "name": "stdout",
          "output_type": "stream",
          "text": [
            "Random Forest R2: 0.763526361458703\n",
            "Random Forest RMSE: 25.368168183662352\n",
            "Gradient Boosting R2: 0.666106227498001\n",
            "Gradient Boosting RMSE: 30.144070783674692\n",
            "Linear Regression R2: 0.555417527109702\n",
            "Linear Regression RMSE: 34.78355048648656\n"
          ]
        }
      ],
      "source": [
        "from sklearn.ensemble import RandomForestRegressor, GradientBoostingRegressor\n",
        "from sklearn.linear_model import LinearRegression\n",
        "\n",
        "# Initialize models\n",
        "rf = RandomForestRegressor(random_state=401)\n",
        "gb = GradientBoostingRegressor(random_state=401)\n",
        "lr = LinearRegression()\n",
        "\n",
        "# Train models\n",
        "rf.fit(x_train, y_train)\n",
        "gb.fit(x_train, y_train)\n",
        "lr.fit(x_train, y_train)\n",
        "\n",
        "# Predict\n",
        "y_pred_rf = rf.predict(x_test)\n",
        "y_pred_gb = gb.predict(x_test)\n",
        "y_pred_lr = lr.predict(x_test)\n",
        "\n",
        "# Evaluate models\n",
        "r2_rf = r2_score(y_test, y_pred_rf)\n",
        "rmse_rf = sqrt(mean_squared_error(y_test, y_pred_rf))\n",
        "\n",
        "r2_gb = r2_score(y_test, y_pred_gb)\n",
        "rmse_gb = sqrt(mean_squared_error(y_test, y_pred_gb))\n",
        "\n",
        "r2_lr = r2_score(y_test, y_pred_lr)\n",
        "rmse_lr = sqrt(mean_squared_error(y_test, y_pred_lr))\n",
        "\n",
        "print('Random Forest R2:', r2_rf)\n",
        "print('Random Forest RMSE:', rmse_rf)\n",
        "\n",
        "print('Gradient Boosting R2:', r2_gb)\n",
        "print('Gradient Boosting RMSE:', rmse_gb)\n",
        "\n",
        "print('Linear Regression R2:', r2_lr)\n",
        "print('Linear Regression RMSE:', rmse_lr)\n"
      ]
    },
    {
      "cell_type": "code",
      "execution_count": 99,
      "id": "8a245be3",
      "metadata": {
        "colab": {
          "base_uri": "https://localhost:8080/"
        },
        "id": "8a245be3",
        "outputId": "fb1bdb44-b6c8-4a3c-f4af-e0e134c41e46"
      },
      "outputs": [
        {
          "name": "stdout",
          "output_type": "stream",
          "text": [
            "Bagging Regressor R2: 0.7412989583126843\n",
            "Bagging Regressor RMSE: 26.533639856205603\n"
          ]
        }
      ],
      "source": [
        "from sklearn.ensemble import BaggingRegressor\n",
        "\n",
        "# Initialize Bagging Regressor\n",
        "bagging_model = BaggingRegressor(random_state=401)\n",
        "\n",
        "# Train the model\n",
        "bagging_model.fit(x_train, y_train)\n",
        "\n",
        "# Predict\n",
        "y_pred_bagging = bagging_model.predict(x_test)\n",
        "\n",
        "# Evaluate the model\n",
        "r2_bagging = r2_score(y_test, y_pred_bagging)\n",
        "rmse_bagging = sqrt(mean_squared_error(y_test, y_pred_bagging))\n",
        "\n",
        "print('Bagging Regressor R2:', r2_bagging)\n",
        "print('Bagging Regressor RMSE:', rmse_bagging)"
      ]
    },
    {
      "cell_type": "code",
      "execution_count": 100,
      "id": "3NoZKL2roG3y",
      "metadata": {
        "colab": {
          "base_uri": "https://localhost:8080/",
          "height": 74
        },
        "id": "3NoZKL2roG3y",
        "outputId": "dae9a92c-ac69-45f6-d9b2-7f1803b01a3b"
      },
      "outputs": [
        {
          "data": {
            "text/plain": [
              "RandomForestRegressor()"
            ]
          },
          "execution_count": 100,
          "metadata": {},
          "output_type": "execute_result"
        }
      ],
      "source": [
        "from sklearn.ensemble import RandomForestRegressor\n",
        "from sklearn.metrics import mean_squared_error\n",
        "\n",
        "# Instantiate the model (assuming regression, you can change it to RandomForestClassifier if it's classification)\n",
        "model = RandomForestRegressor()\n",
        "\n",
        "# Train the model\n",
        "model.fit(x_train, y_train)\n"
      ]
    },
    {
      "cell_type": "code",
      "execution_count": 101,
      "id": "QMcY9ifJoHdb",
      "metadata": {
        "id": "QMcY9ifJoHdb"
      },
      "outputs": [],
      "source": [
        "# Predictions on training data\n",
        "y_train_pred = model.predict(x_train)\n",
        "\n",
        "# Predictions on test data (already provided as y_pred_rf)\n",
        "y_test_pred = model.predict(x_test) # If y_pred_rf is not defined, use this line\n"
      ]
    },
    {
      "cell_type": "code",
      "execution_count": 102,
      "id": "1R8fTNxzmGLg",
      "metadata": {
        "colab": {
          "base_uri": "https://localhost:8080/"
        },
        "id": "1R8fTNxzmGLg",
        "outputId": "de3caec7-7625-443a-b5a5-fcc34e9c9cf8"
      },
      "outputs": [
        {
          "name": "stdout",
          "output_type": "stream",
          "text": [
            "Training MSE: 87.85005324987284\n",
            "Test MSE: 643.5439569945788\n"
          ]
        }
      ],
      "source": [
        "# Calculate MSE for training data\n",
        "train_mse = mean_squared_error(y_train, y_train_pred)\n",
        "\n",
        "# Calculate MSE for test data\n",
        "test_mse = mean_squared_error(y_test, y_pred_rf)\n",
        "\n",
        "print(f'Training MSE: {train_mse}')\n",
        "print(f'Test MSE: {test_mse}')\n"
      ]
    },
    {
      "cell_type": "code",
      "execution_count": 104,
      "id": "df232507",
      "metadata": {},
      "outputs": [
        {
          "data": {
            "text/plain": [
              "Index(['Bus No.', 'Bus Type', 'Shift', 'Total KM', 'START SOC', 'temp',\n",
              "       'Act_start_Month', 'Unique Route ID', 'Unique Driver ID', 'Hour',\n",
              "       'Minute', 'Depot', 'icon', 'Act_start_Day_of_Week', 'Act_start_Season',\n",
              "       'Act_start_time_of_day'],\n",
              "      dtype='object')"
            ]
          },
          "execution_count": 104,
          "metadata": {},
          "output_type": "execute_result"
        }
      ],
      "source": [
        "x.columns"
      ]
    },
    {
      "cell_type": "code",
      "execution_count": 105,
      "id": "25325899",
      "metadata": {},
      "outputs": [
        {
          "name": "stdout",
          "output_type": "stream",
          "text": [
            "                  Feature  Importance\n",
            "3                Total KM    0.558863\n",
            "0                 Bus No.    0.095325\n",
            "7         Unique Route ID    0.063998\n",
            "4               START SOC    0.056932\n",
            "5                    temp    0.048775\n",
            "8        Unique Driver ID    0.036184\n",
            "13  Act_start_Day_of_Week    0.024746\n",
            "9                    Hour    0.024411\n",
            "11                  Depot    0.024166\n",
            "10                 Minute    0.020176\n",
            "6         Act_start_Month    0.018319\n",
            "2                   Shift    0.010564\n",
            "12                   icon    0.009899\n",
            "14       Act_start_Season    0.003709\n",
            "15  Act_start_time_of_day    0.002717\n",
            "1                Bus Type    0.001219\n"
          ]
        }
      ],
      "source": [
        "import pandas as pd\n",
        "from sklearn.ensemble import RandomForestRegressor\n",
        "\n",
        "# Assuming x_train, x_test, and y_train are already defined\n",
        "# Define the feature names\n",
        "feature_names = ['Bus No.', 'Bus Type', 'Shift', 'Total KM', 'START SOC', 'temp','Act_start_Month', 'Unique Route ID', 'Unique Driver ID', 'Hour',\n",
        "       'Minute', 'Depot', 'icon', 'Act_start_Day_of_Week', 'Act_start_Season','Act_start_time_of_day']\n",
        "\n",
        "# Convert numpy arrays to DataFrames with the correct column names\n",
        "x_train_df = pd.DataFrame(x_train, columns=feature_names)\n",
        "x_test_df = pd.DataFrame(x_test, columns=feature_names)\n",
        "\n",
        "# Train a RandomForest model to get feature importance\n",
        "rf = RandomForestRegressor(random_state=401)\n",
        "rf.fit(x_train_df, y_train)\n",
        "\n",
        "# Get feature importances\n",
        "importances = rf.feature_importances_\n",
        "\n",
        "# Create a DataFrame to display feature importances nicely\n",
        "feature_importances_df = pd.DataFrame({\n",
        "    'Feature': feature_names,\n",
        "    'Importance': importances\n",
        "}).sort_values(by='Importance', ascending=False)\n",
        "\n",
        "print(feature_importances_df)\n"
      ]
    },
    {
      "cell_type": "code",
      "execution_count": 106,
      "id": "c62fc7e9",
      "metadata": {},
      "outputs": [
        {
          "ename": "IndentationError",
          "evalue": "unexpected indent (3898436519.py, line 5)",
          "output_type": "error",
          "traceback": [
            "\u001b[1;36m  Cell \u001b[1;32mIn[106], line 5\u001b[1;36m\u001b[0m\n\u001b[1;33m    x_train_selected = pd.DataFraem(x_train_df, columns=selected_features)\u001b[0m\n\u001b[1;37m    ^\u001b[0m\n\u001b[1;31mIndentationError\u001b[0m\u001b[1;31m:\u001b[0m unexpected indent\n"
          ]
        }
      ],
      "source": [
        "selected_features = ['Depot','Bus No.', 'Bus Type', 'Shift' 'Act_start_Month', 'Unique Route ID','Total KM', 'Hour',\n",
        "       'Minute',  'Act_start_Day_of_Week', 'Act_start_Season','temp', 'icon']\n",
        "\n",
        "# Convert numpy arrays to DataFrames with the correct column names\n",
        " x_train_selected = pd.DataFraem(x_train_df, columns=selected_features)\n",
        "x_test_selected = pd.DataFrame(x_test_df, columns=selected_features)"
      ]
    },
    {
      "cell_type": "code",
      "execution_count": 107,
      "id": "f71fdb26",
      "metadata": {},
      "outputs": [],
      "source": [
        "selected_features = [\n",
        "    'Depot', 'Bus No.', 'Bus Type', 'Shift', 'Act_start_Month', \n",
        "    'Unique Route ID', 'Total KM', 'Hour', 'Minute',  \n",
        "    'Act_start_Day_of_Week', 'Act_start_Season', 'temp', 'icon'\n",
        "]\n",
        "\n",
        "# Convert to DataFrames with selected features\n",
        "x_train_selected = pd.DataFrame(x_train_df, columns=selected_features)\n",
        "x_test_selected = pd.DataFrame(x_test_df, columns=selected_features)\n"
      ]
    },
    {
      "cell_type": "code",
      "execution_count": 108,
      "id": "e18bba1b",
      "metadata": {},
      "outputs": [],
      "source": [
        "from sklearn.ensemble import RandomForestRegressor\n",
        "from sklearn.metrics import mean_squared_error, r2_score\n",
        "from math import sqrt\n",
        "\n",
        "# Initialize and fit the model\n",
        "rf = RandomForestRegressor(random_state=401)\n",
        "rf.fit(x_train_selected, y_train)\n",
        "\n",
        "# Make predictions\n",
        "y_train_pred_rf = rf.predict(x_train_selected)\n",
        "y_test_pred_rf = rf.predict(x_test_selected)\n"
      ]
    },
    {
      "cell_type": "code",
      "execution_count": 109,
      "id": "9b2a6b50",
      "metadata": {},
      "outputs": [
        {
          "name": "stdout",
          "output_type": "stream",
          "text": [
            "Training RMSE: 9.902121378828486\n",
            "Test RMSE: 26.875778027565335\n",
            "R-squared: 0.7345843004032988\n"
          ]
        }
      ],
      "source": [
        "# Calculate MSE for training data\n",
        "train_mse_rf = mean_squared_error(y_train, y_train_pred_rf)\n",
        "# Calculate RMSE for training data\n",
        "train_rmse_rf = sqrt(train_mse_rf)\n",
        "\n",
        "# Calculate MSE for test data\n",
        "test_mse_rf = mean_squared_error(y_test, y_test_pred_rf)\n",
        "# Calculate RMSE for test data\n",
        "test_rmse_rf = sqrt(test_mse_rf)\n",
        "\n",
        "# Calculate R-squared for test data\n",
        "r2_rf = r2_score(y_test, y_test_pred_rf)\n",
        "\n",
        "print(f'Training RMSE: {train_rmse_rf}')\n",
        "print(f'Test RMSE: {test_rmse_rf}')\n",
        "print(f'R-squared: {r2_rf}')"
      ]
    },
    {
      "cell_type": "code",
      "execution_count": 110,
      "id": "0f31e467",
      "metadata": {},
      "outputs": [
        {
          "data": {
            "image/png": "[encoded data removed]",
            "text/plain": [
              "<Figure size 640x480 with 1 Axes>"
            ]
          },
          "metadata": {},
          "output_type": "display_data"
        }
      ],
      "source": [
        "plt.scatter(y_test, y_test_pred_rf)\n",
        "plt.xlabel('Actual Energy Consumption (kWh)')\n",
        "plt.ylabel('Predicted Energy Consumption (kWh)')\n",
        "plt.title('Actual vs. Predicted Energy Consumption (Random Forest)')\n",
        "plt.show()"
      ]
    },
    {
      "cell_type": "code",
      "execution_count": null,
      "id": "01c50628",
      "metadata": {},
      "outputs": [
        {
          "name": "stdout",
          "output_type": "stream",
          "text": [
            "Model successfully saved.\n"
          ]
        }
      ],
      "source": [
        "#import joblib\n",
        "# Save the trained model using joblib\n",
        "#try:\n",
        "    joblib.dump(rf, 'rf_model.pkl')\n",
        "    print(\"Model successfully saved.\")\n",
        "#except Exception as e:\n",
        "   # print(f\"Error saving the model: {e}\")"
      ]
    },
    {
      "cell_type": "code",
      "execution_count": null,
      "id": "651c4105",
      "metadata": {},
      "outputs": [
        {
          "ename": "NameError",
          "evalue": "name 'end' is not defined",
          "output_type": "error",
          "traceback": [
            "\u001b[1;31m---------------------------------------------------------------------------\u001b[0m",
            "\u001b[1;31mNameError\u001b[0m                                 Traceback (most recent call last)",
            "Cell \u001b[1;32mIn[101], line 1\u001b[0m\n\u001b[1;32m----> 1\u001b[0m \u001b[43mend\u001b[49m\n",
            "\u001b[1;31mNameError\u001b[0m: name 'end' is not defined"
          ]
        }
      ],
      "source": [
        "end"
      ]
    },
    {
      "cell_type": "code",
      "execution_count": null,
      "id": "854d5266",
      "metadata": {},
      "outputs": [],
      "source": []
    },
    {
      "cell_type": "code",
      "execution_count": null,
      "id": "-aYskO59wKge",
      "metadata": {
        "id": "-aYskO59wKge"
      },
      "outputs": [],
      "source": []
    }
  ],
  "metadata": {
    "accelerator": "GPU",
    "colab": {
      "gpuType": "T4",
      "provenance": []
    },
    "kernelspec": {
      "display_name": "Python 3",
      "name": "python3"
    },
    "language_info": {
      "codemirror_mode": {
        "name": "ipython",
        "version": 3
      },
      "file_extension": ".py",
      "mimetype": "text/x-python",
      "name": "python",
      "nbconvert_exporter": "python",
      "pygments_lexer": "ipython3",
      "version": "3.8.19"
    }
  },
  "nbformat": 4,
  "nbformat_minor": 5
}
